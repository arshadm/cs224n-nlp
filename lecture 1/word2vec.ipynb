{
 "cells": [
  {
   "cell_type": "code",
   "execution_count": 20,
   "metadata": {},
   "outputs": [
    {
     "name": "stderr",
     "output_type": "stream",
     "text": [
      "\u001b[32m\u001b[1m  Resolving\u001b[22m\u001b[39m package versions...\n",
      "\u001b[32m\u001b[1m   Updating\u001b[22m\u001b[39m `/opt/julia/environments/v1.4/Project.toml`\n",
      "\u001b[90m [no changes]\u001b[39m\n",
      "\u001b[32m\u001b[1m   Updating\u001b[22m\u001b[39m `/opt/julia/environments/v1.4/Manifest.toml`\n",
      "\u001b[90m [no changes]\u001b[39m\n",
      "\u001b[32m\u001b[1m  Resolving\u001b[22m\u001b[39m package versions...\n",
      "\u001b[32m\u001b[1m   Updating\u001b[22m\u001b[39m `/opt/julia/environments/v1.4/Project.toml`\n",
      "\u001b[90m [no changes]\u001b[39m\n",
      "\u001b[32m\u001b[1m   Updating\u001b[22m\u001b[39m `/opt/julia/environments/v1.4/Manifest.toml`\n",
      "\u001b[90m [no changes]\u001b[39m\n",
      "┌ Info: Precompiling Plots [91a5bcdd-55d7-5caf-9e0b-520d859cae80]\n",
      "└ @ Base loading.jl:1260\n"
     ]
    }
   ],
   "source": [
    "using Pkg\n",
    "Pkg.add(\"Plots\")\n",
    "\n",
    "using Plots"
   ]
  },
  {
   "cell_type": "code",
   "execution_count": 28,
   "metadata": {},
   "outputs": [],
   "source": [
    "mutable struct Word2Vec\n",
    "    veclen::Int64\n",
    "    vocab::Array{String}\n",
    "    vectors::Dict{String,Vector{Float64}}\n",
    "end"
   ]
  },
  {
   "cell_type": "markdown",
   "metadata": {},
   "source": [
    "Here we define our Word2Vec structure as mutable (so that it's contents can be modified). \n",
    "\n",
    "The contents of this structure are:\n",
    " - veclen: size of the individual word vectors.\n",
    " - vocab: array holding all the words parsed (i.e. the vocabulary)\n",
    " - vectors: dictionary mapping a word to it's vector\n"
   ]
  },
  {
   "cell_type": "code",
   "execution_count": 29,
   "metadata": {},
   "outputs": [
    {
     "data": {
      "text/plain": [
       "readdata (generic function with 1 method)"
      ]
     },
     "execution_count": 29,
     "metadata": {},
     "output_type": "execute_result"
    }
   ],
   "source": [
    "function readdata(data::String, veclen::Int64)\n",
    "    word2vec = Word2Vec(veclen, [], Dict())\n",
    "    onlywords = r\"^[a-z]+$\"\n",
    "\n",
    "    for line in split(data, \"\\r\\n\")\n",
    "        line = lowercase(line)\n",
    "        line = replace(line, r\"[\\.,\\\":“”;]\" => s\"\")\n",
    "        line = replace(line, r\"[\\-—]\" => s\" \")\n",
    "        line = replace(line, r\"'s\" => s\" \")\n",
    "        words = split(line)\n",
    "        for word in words\n",
    "            if (match(onlywords, word) != nothing)\n",
    "                push!(word2vec.vocab, word)\n",
    "                if !haskey(word2vec.vectors, word)\n",
    "                    word2vec.vectors[word] = Vector(rand(veclen))\n",
    "                end\n",
    "            end\n",
    "        end\n",
    "    end\n",
    "    word2vec\n",
    "end"
   ]
  },
  {
   "cell_type": "markdown",
   "metadata": {},
   "source": [
    "This function reads the data from string passed as a parameter by reading each line at a time and then extracting the words from the line in a naive way. The parameter veclen is used to define the length of the individual word vectors.\n",
    "\n",
    "The words vectors are initialized to random values."
   ]
  },
  {
   "cell_type": "code",
   "execution_count": 11,
   "metadata": {},
   "outputs": [
    {
     "data": {
      "text/plain": [
       "p (generic function with 1 method)"
      ]
     },
     "execution_count": 11,
     "metadata": {},
     "output_type": "execute_result"
    }
   ],
   "source": [
    "function p(theta::Word2Vec, len::Int64, o::String, c::String) Float64\n",
    "    num = exp(transpose(theta.vectors[o]) * theta.vectors[c])\n",
    "    denom = 0.0\n",
    "    for v=1:len\n",
    "        denom += exp(transpose(theta.vectors[theta.vocab[v]]) * theta.vectors[c])\n",
    "    end\n",
    "    num / denom\n",
    "end"
   ]
  },
  {
   "cell_type": "markdown",
   "metadata": {},
   "source": [
    "This function computes a probaility for two words being adjacent to each other in the text. It is in essense \n",
    "an implementation of the softmax algorithm. The dot products (which if you recall your linear algebra is the cosine \n",
    "of the angle between the two vectors) is used for this purpose."
   ]
  },
  {
   "cell_type": "code",
   "execution_count": 12,
   "metadata": {},
   "outputs": [
    {
     "data": {
      "text/plain": [
       "gradient (generic function with 1 method)"
      ]
     },
     "execution_count": 12,
     "metadata": {},
     "output_type": "execute_result"
    }
   ],
   "source": [
    "function gradient(theta::Word2Vec, len::Int64, o::String, c::String) Float64\n",
    "    num = Vector(zeros(len))\n",
    "    denom = 0.0\n",
    "    v_c = theta.vectors[c]\n",
    "    u_o = theta.vectors[o]\n",
    "    for i = 1:len\n",
    "        u_x = theta.vectors[theta.vocab[i]]\n",
    "        num += exp(transpose(u_x) * v_c) * u_x\n",
    "        denom += exp(transpose(u_x) * v_c)\n",
    "    end\n",
    "\n",
    "    result = u_o - num / denom\n",
    "end"
   ]
  },
  {
   "cell_type": "markdown",
   "metadata": {},
   "source": [
    "This is gradient computation. To Do - show dervation."
   ]
  },
  {
   "cell_type": "code",
   "execution_count": 13,
   "metadata": {},
   "outputs": [
    {
     "data": {
      "text/plain": [
       "likelihood (generic function with 2 methods)"
      ]
     },
     "execution_count": 13,
     "metadata": {},
     "output_type": "execute_result"
    }
   ],
   "source": [
    "function likelihood(theta::Word2Vec, len::Int64, m::Int64 = 3) Float64\n",
    "    result = 0.0\n",
    "    for i = 1:len\n",
    "        for j = -m:m\n",
    "            if ((j != 0) && (i + j > 0) && (i + j <= len))\n",
    "                result += log(p(theta, len, theta.vocab[i + j], theta.vocab[i]))\n",
    "            end\n",
    "        end\n",
    "    end\n",
    "    -result / len\n",
    "end"
   ]
  },
  {
   "cell_type": "markdown",
   "metadata": {},
   "source": [
    "This is an implementation of the likelihood function as described in the lecture. To Do - better explanation."
   ]
  },
  {
   "cell_type": "code",
   "execution_count": 14,
   "metadata": {},
   "outputs": [
    {
     "data": {
      "text/plain": [
       "gradient_descent (generic function with 3 methods)"
      ]
     },
     "execution_count": 14,
     "metadata": {},
     "output_type": "execute_result"
    }
   ],
   "source": [
    "function gradient_descent(theta::Word2Vec, len::Int64, m::Int64 = 3, lr::Float64 = 0.1)\n",
    "    for i=1:len\n",
    "        w_c = theta.vocab[i]\n",
    "        for j = -m:m\n",
    "            if ((j != 0) && (i + j > 0) && (i + j <= len))\n",
    "                w_o = theta.vocab[i + j]\n",
    "                grad = gradient(theta, len, w_o, w_c)\n",
    "                theta.vectors[w_o] = theta.vectors[w_o] - grad * lr\n",
    "            end\n",
    "        end\n",
    "    end\n",
    "\n",
    "    likelihood(theta, len, m)\n",
    "end"
   ]
  },
  {
   "cell_type": "markdown",
   "metadata": {},
   "source": [
    "This is a basic implementation of gradient descent. To Do - give better explanation of this"
   ]
  },
  {
   "cell_type": "code",
   "execution_count": 23,
   "metadata": {},
   "outputs": [
    {
     "data": {
      "text/plain": [
       "scatter_plot (generic function with 1 method)"
      ]
     },
     "execution_count": 23,
     "metadata": {},
     "output_type": "execute_result"
    }
   ],
   "source": [
    "function scatter_plot(word2vec::Word2Vec, len::Int64)\n",
    "    x = Array{Float64,1}()\n",
    "    y = Array{Float64,1}()\n",
    "    words = Array{String,1}()\n",
    "\n",
    "    for i=1:len\n",
    "        w_c = word2vec.vocab[i]\n",
    "        append!(x, word2vec.vectors[w_c][1])\n",
    "        append!(y, word2vec.vectors[w_c][1])\n",
    "        push!(words, w_c)\n",
    "    end\n",
    "    display(scatter(x,y, series_annotations=words, title = \"Word2Vec Plot\"))\n",
    "end"
   ]
  },
  {
   "cell_type": "code",
   "execution_count": 27,
   "metadata": {},
   "outputs": [
    {
     "data": {
      "text/plain": [
       "\"Emma Woodhouse, handsome, clever, and rich, with a comfortable home\\nand happy disposition, seemed to unite some of the best blessings of\\nexistence; and had lived nearly twenty-one years in the world with very\\nlittle to distress or vex her.\\n\\nShe was the youngest of the two daughters of a most affectionate,\\nindulgent father; and had, in consequence of her sister's marriage, been\\nmistress of his house from a very early period. Her mother had died\\ntoo long ago for her to have more than an indistinct remembrance of\\nher caresses; and her place had been supplied by an excellent woman as\\ngoverness, who had fallen little short of a mother in affection.\\n\\nSixteen years had Miss Taylor been in Mr. Woodhouse's family, less as a\\ngoverness than a friend, very fond of both daughters, but particularly\\nof Emma. Between _them_ it was more the intimacy of sisters. Even before\\nMiss Taylor had ceased to hold the nominal office of governess, the\\nmildness of her temper had hardly allowed her to impose any restraint;\\nand the shadow of authority being now long passed away, they had been\\nliving together as friend and friend very mutually attached, and Emma\\ndoing just what she liked; highly esteeming Miss Taylor's judgment, but\\ndirected chiefly by her own.\\n\\nThe real evils, indeed, of Emma's situation were the power of having\\nrather too much her own way, and a disposition to think a little too\\nwell of herself; these were the disadvantages which threatened alloy to\\nher many enjoyments. The danger, however, was at present so unperceived,\\nthat they did not by any means rank as misfortunes with her.\\n\\nSorrow came--a gentle sorrow--but not at all in the shape of any\\ndisagreeable consciousness.--Miss Taylor married. It was Miss Taylor's\\nloss which first brought grief. It was on the wedding-day of this\\nbeloved friend that Emma first sat in mournful thought of any\\ncontinuance. The wedding over, and the bride-people gone, her father and\\nherself were left to dine together, with no prospect of a third to cheer\\na long evening. Her father composed himself to sleep after dinner, as\\nusual, and she had then only to sit and think of what she had lost.\\n\""
      ]
     },
     "execution_count": 27,
     "metadata": {},
     "output_type": "execute_result"
    }
   ],
   "source": [
    "emmaNovel = \"\"\"Emma Woodhouse, handsome, clever, and rich, with a comfortable home\n",
    "and happy disposition, seemed to unite some of the best blessings of\n",
    "existence; and had lived nearly twenty-one years in the world with very\n",
    "little to distress or vex her.\n",
    "\n",
    "She was the youngest of the two daughters of a most affectionate,\n",
    "indulgent father; and had, in consequence of her sister's marriage, been\n",
    "mistress of his house from a very early period. Her mother had died\n",
    "too long ago for her to have more than an indistinct remembrance of\n",
    "her caresses; and her place had been supplied by an excellent woman as\n",
    "governess, who had fallen little short of a mother in affection.\n",
    "\n",
    "Sixteen years had Miss Taylor been in Mr. Woodhouse's family, less as a\n",
    "governess than a friend, very fond of both daughters, but particularly\n",
    "of Emma. Between _them_ it was more the intimacy of sisters. Even before\n",
    "Miss Taylor had ceased to hold the nominal office of governess, the\n",
    "mildness of her temper had hardly allowed her to impose any restraint;\n",
    "and the shadow of authority being now long passed away, they had been\n",
    "living together as friend and friend very mutually attached, and Emma\n",
    "doing just what she liked; highly esteeming Miss Taylor's judgment, but\n",
    "directed chiefly by her own.\n",
    "\n",
    "The real evils, indeed, of Emma's situation were the power of having\n",
    "rather too much her own way, and a disposition to think a little too\n",
    "well of herself; these were the disadvantages which threatened alloy to\n",
    "her many enjoyments. The danger, however, was at present so unperceived,\n",
    "that they did not by any means rank as misfortunes with her.\n",
    "\n",
    "Sorrow came--a gentle sorrow--but not at all in the shape of any\n",
    "disagreeable consciousness.--Miss Taylor married. It was Miss Taylor's\n",
    "loss which first brought grief. It was on the wedding-day of this\n",
    "beloved friend that Emma first sat in mournful thought of any\n",
    "continuance. The wedding over, and the bride-people gone, her father and\n",
    "herself were left to dine together, with no prospect of a third to cheer\n",
    "a long evening. Her father composed himself to sleep after dinner, as\n",
    "usual, and she had then only to sit and think of what she had lost.\n",
    "\"\"\""
   ]
  },
  {
   "cell_type": "markdown",
   "metadata": {},
   "source": [
    "This function is used to do the plot."
   ]
  },
  {
   "cell_type": "code",
   "execution_count": 42,
   "metadata": {},
   "outputs": [
    {
     "data": {
      "image/svg+xml": [
       "<?xml version=\"1.0\" encoding=\"utf-8\"?>\n",
       "<svg xmlns=\"http://www.w3.org/2000/svg\" xmlns:xlink=\"http://www.w3.org/1999/xlink\" width=\"600\" height=\"400\" viewBox=\"0 0 2400 1600\">\n",
       "<defs>\n",
       "  <clipPath id=\"clip880\">\n",
       "    <rect x=\"0\" y=\"0\" width=\"2400\" height=\"1600\"/>\n",
       "  </clipPath>\n",
       "</defs>\n",
       "<path clip-path=\"url(#clip880)\" d=\"\n",
       "M0 1600 L2400 1600 L2400 0 L0 0  Z\n",
       "  \" fill=\"#ffffff\" fill-rule=\"evenodd\" fill-opacity=\"1\"/>\n",
       "<defs>\n",
       "  <clipPath id=\"clip881\">\n",
       "    <rect x=\"480\" y=\"0\" width=\"1681\" height=\"1600\"/>\n",
       "  </clipPath>\n",
       "</defs>\n",
       "<path clip-path=\"url(#clip880)\" d=\"\n",
       "M199.769 1486.45 L2352.76 1486.45 L2352.76 123.472 L199.769 123.472  Z\n",
       "  \" fill=\"#ffffff\" fill-rule=\"evenodd\" fill-opacity=\"1\"/>\n",
       "<defs>\n",
       "  <clipPath id=\"clip882\">\n",
       "    <rect x=\"199\" y=\"123\" width=\"2154\" height=\"1364\"/>\n",
       "  </clipPath>\n",
       "</defs>\n",
       "<polyline clip-path=\"url(#clip882)\" style=\"stroke:#000000; stroke-width:2; stroke-opacity:0.1; fill:none\" points=\"\n",
       "  431.932,1486.45 431.932,123.472 \n",
       "  \"/>\n",
       "<polyline clip-path=\"url(#clip882)\" style=\"stroke:#000000; stroke-width:2; stroke-opacity:0.1; fill:none\" points=\"\n",
       "  768.753,1486.45 768.753,123.472 \n",
       "  \"/>\n",
       "<polyline clip-path=\"url(#clip882)\" style=\"stroke:#000000; stroke-width:2; stroke-opacity:0.1; fill:none\" points=\"\n",
       "  1105.57,1486.45 1105.57,123.472 \n",
       "  \"/>\n",
       "<polyline clip-path=\"url(#clip882)\" style=\"stroke:#000000; stroke-width:2; stroke-opacity:0.1; fill:none\" points=\"\n",
       "  1442.39,1486.45 1442.39,123.472 \n",
       "  \"/>\n",
       "<polyline clip-path=\"url(#clip882)\" style=\"stroke:#000000; stroke-width:2; stroke-opacity:0.1; fill:none\" points=\"\n",
       "  1779.21,1486.45 1779.21,123.472 \n",
       "  \"/>\n",
       "<polyline clip-path=\"url(#clip882)\" style=\"stroke:#000000; stroke-width:2; stroke-opacity:0.1; fill:none\" points=\"\n",
       "  2116.03,1486.45 2116.03,123.472 \n",
       "  \"/>\n",
       "<polyline clip-path=\"url(#clip882)\" style=\"stroke:#000000; stroke-width:2; stroke-opacity:0.1; fill:none\" points=\"\n",
       "  199.769,1339.47 2352.76,1339.47 \n",
       "  \"/>\n",
       "<polyline clip-path=\"url(#clip882)\" style=\"stroke:#000000; stroke-width:2; stroke-opacity:0.1; fill:none\" points=\"\n",
       "  199.769,1126.25 2352.76,1126.25 \n",
       "  \"/>\n",
       "<polyline clip-path=\"url(#clip882)\" style=\"stroke:#000000; stroke-width:2; stroke-opacity:0.1; fill:none\" points=\"\n",
       "  199.769,913.017 2352.76,913.017 \n",
       "  \"/>\n",
       "<polyline clip-path=\"url(#clip882)\" style=\"stroke:#000000; stroke-width:2; stroke-opacity:0.1; fill:none\" points=\"\n",
       "  199.769,699.789 2352.76,699.789 \n",
       "  \"/>\n",
       "<polyline clip-path=\"url(#clip882)\" style=\"stroke:#000000; stroke-width:2; stroke-opacity:0.1; fill:none\" points=\"\n",
       "  199.769,486.56 2352.76,486.56 \n",
       "  \"/>\n",
       "<polyline clip-path=\"url(#clip882)\" style=\"stroke:#000000; stroke-width:2; stroke-opacity:0.1; fill:none\" points=\"\n",
       "  199.769,273.331 2352.76,273.331 \n",
       "  \"/>\n",
       "<polyline clip-path=\"url(#clip880)\" style=\"stroke:#000000; stroke-width:4; stroke-opacity:1; fill:none\" points=\"\n",
       "  199.769,1486.45 2352.76,1486.45 \n",
       "  \"/>\n",
       "<polyline clip-path=\"url(#clip880)\" style=\"stroke:#000000; stroke-width:4; stroke-opacity:1; fill:none\" points=\"\n",
       "  199.769,1486.45 199.769,123.472 \n",
       "  \"/>\n",
       "<polyline clip-path=\"url(#clip880)\" style=\"stroke:#000000; stroke-width:4; stroke-opacity:1; fill:none\" points=\"\n",
       "  431.932,1486.45 431.932,1470.09 \n",
       "  \"/>\n",
       "<polyline clip-path=\"url(#clip880)\" style=\"stroke:#000000; stroke-width:4; stroke-opacity:1; fill:none\" points=\"\n",
       "  768.753,1486.45 768.753,1470.09 \n",
       "  \"/>\n",
       "<polyline clip-path=\"url(#clip880)\" style=\"stroke:#000000; stroke-width:4; stroke-opacity:1; fill:none\" points=\"\n",
       "  1105.57,1486.45 1105.57,1470.09 \n",
       "  \"/>\n",
       "<polyline clip-path=\"url(#clip880)\" style=\"stroke:#000000; stroke-width:4; stroke-opacity:1; fill:none\" points=\"\n",
       "  1442.39,1486.45 1442.39,1470.09 \n",
       "  \"/>\n",
       "<polyline clip-path=\"url(#clip880)\" style=\"stroke:#000000; stroke-width:4; stroke-opacity:1; fill:none\" points=\"\n",
       "  1779.21,1486.45 1779.21,1470.09 \n",
       "  \"/>\n",
       "<polyline clip-path=\"url(#clip880)\" style=\"stroke:#000000; stroke-width:4; stroke-opacity:1; fill:none\" points=\"\n",
       "  2116.03,1486.45 2116.03,1470.09 \n",
       "  \"/>\n",
       "<polyline clip-path=\"url(#clip880)\" style=\"stroke:#000000; stroke-width:4; stroke-opacity:1; fill:none\" points=\"\n",
       "  199.769,1339.47 225.605,1339.47 \n",
       "  \"/>\n",
       "<polyline clip-path=\"url(#clip880)\" style=\"stroke:#000000; stroke-width:4; stroke-opacity:1; fill:none\" points=\"\n",
       "  199.769,1126.25 225.605,1126.25 \n",
       "  \"/>\n",
       "<polyline clip-path=\"url(#clip880)\" style=\"stroke:#000000; stroke-width:4; stroke-opacity:1; fill:none\" points=\"\n",
       "  199.769,913.017 225.605,913.017 \n",
       "  \"/>\n",
       "<polyline clip-path=\"url(#clip880)\" style=\"stroke:#000000; stroke-width:4; stroke-opacity:1; fill:none\" points=\"\n",
       "  199.769,699.789 225.605,699.789 \n",
       "  \"/>\n",
       "<polyline clip-path=\"url(#clip880)\" style=\"stroke:#000000; stroke-width:4; stroke-opacity:1; fill:none\" points=\"\n",
       "  199.769,486.56 225.605,486.56 \n",
       "  \"/>\n",
       "<polyline clip-path=\"url(#clip880)\" style=\"stroke:#000000; stroke-width:4; stroke-opacity:1; fill:none\" points=\"\n",
       "  199.769,273.331 225.605,273.331 \n",
       "  \"/>\n",
       "<path clip-path=\"url(#clip880)\" d=\"M 0 0 M387.638 1508.44 Q384.027 1508.44 382.198 1512 Q380.393 1515.55 380.393 1522.67 Q380.393 1529.78 382.198 1533.35 Q384.027 1536.89 387.638 1536.89 Q391.272 1536.89 393.078 1533.35 Q394.907 1529.78 394.907 1522.67 Q394.907 1515.55 393.078 1512 Q391.272 1508.44 387.638 1508.44 M387.638 1504.73 Q393.448 1504.73 396.504 1509.34 Q399.583 1513.92 399.583 1522.67 Q399.583 1531.4 396.504 1536.01 Q393.448 1540.59 387.638 1540.59 Q381.828 1540.59 378.749 1536.01 Q375.694 1531.4 375.694 1522.67 Q375.694 1513.92 378.749 1509.34 Q381.828 1504.73 387.638 1504.73 Z\" fill=\"#000000\" fill-rule=\"evenodd\" fill-opacity=\"1\" /><path clip-path=\"url(#clip880)\" d=\"M 0 0 M404.652 1534.04 L409.536 1534.04 L409.536 1539.92 L404.652 1539.92 L404.652 1534.04 Z\" fill=\"#000000\" fill-rule=\"evenodd\" fill-opacity=\"1\" /><path clip-path=\"url(#clip880)\" d=\"M 0 0 M414.652 1505.36 L433.008 1505.36 L433.008 1509.3 L418.934 1509.3 L418.934 1517.77 Q419.953 1517.42 420.971 1517.26 Q421.99 1517.07 423.008 1517.07 Q428.795 1517.07 432.175 1520.24 Q435.555 1523.42 435.555 1528.83 Q435.555 1534.41 432.082 1537.51 Q428.61 1540.59 422.291 1540.59 Q420.115 1540.59 417.846 1540.22 Q415.601 1539.85 413.194 1539.11 L413.194 1534.41 Q415.277 1535.54 417.499 1536.1 Q419.721 1536.66 422.198 1536.66 Q426.203 1536.66 428.541 1534.55 Q430.879 1532.44 430.879 1528.83 Q430.879 1525.22 428.541 1523.11 Q426.203 1521.01 422.198 1521.01 Q420.323 1521.01 418.448 1521.42 Q416.596 1521.84 414.652 1522.72 L414.652 1505.36 Z\" fill=\"#000000\" fill-rule=\"evenodd\" fill-opacity=\"1\" /><path clip-path=\"url(#clip880)\" d=\"M 0 0 M441.434 1535.98 L449.073 1535.98 L449.073 1509.62 L440.763 1511.29 L440.763 1507.03 L449.027 1505.36 L453.703 1505.36 L453.703 1535.98 L461.341 1535.98 L461.341 1539.92 L441.434 1539.92 L441.434 1535.98 Z\" fill=\"#000000\" fill-rule=\"evenodd\" fill-opacity=\"1\" /><path clip-path=\"url(#clip880)\" d=\"M 0 0 M466.55 1539.2 L466.55 1534.94 Q468.309 1535.78 470.115 1536.22 Q471.92 1536.66 473.656 1536.66 Q478.286 1536.66 480.716 1533.55 Q483.17 1530.43 483.517 1524.09 Q482.175 1526.08 480.115 1527.14 Q478.054 1528.21 475.554 1528.21 Q470.369 1528.21 467.337 1525.08 Q464.328 1521.93 464.328 1516.49 Q464.328 1511.17 467.476 1507.95 Q470.624 1504.73 475.855 1504.73 Q481.851 1504.73 484.999 1509.34 Q488.17 1513.92 488.17 1522.67 Q488.17 1530.85 484.281 1535.73 Q480.415 1540.59 473.865 1540.59 Q472.105 1540.59 470.3 1540.24 Q468.494 1539.9 466.55 1539.2 M475.855 1524.55 Q479.003 1524.55 480.832 1522.4 Q482.684 1520.24 482.684 1516.49 Q482.684 1512.77 480.832 1510.61 Q479.003 1508.44 475.855 1508.44 Q472.707 1508.44 470.855 1510.61 Q469.027 1512.77 469.027 1516.49 Q469.027 1520.24 470.855 1522.4 Q472.707 1524.55 475.855 1524.55 Z\" fill=\"#000000\" fill-rule=\"evenodd\" fill-opacity=\"1\" /><path clip-path=\"url(#clip880)\" d=\"M 0 0 M724.551 1508.44 Q720.94 1508.44 719.112 1512 Q717.306 1515.55 717.306 1522.67 Q717.306 1529.78 719.112 1533.35 Q720.94 1536.89 724.551 1536.89 Q728.186 1536.89 729.991 1533.35 Q731.82 1529.78 731.82 1522.67 Q731.82 1515.55 729.991 1512 Q728.186 1508.44 724.551 1508.44 M724.551 1504.73 Q730.362 1504.73 733.417 1509.34 Q736.496 1513.92 736.496 1522.67 Q736.496 1531.4 733.417 1536.01 Q730.362 1540.59 724.551 1540.59 Q718.741 1540.59 715.663 1536.01 Q712.607 1531.4 712.607 1522.67 Q712.607 1513.92 715.663 1509.34 Q718.741 1504.73 724.551 1504.73 Z\" fill=\"#000000\" fill-rule=\"evenodd\" fill-opacity=\"1\" /><path clip-path=\"url(#clip880)\" d=\"M 0 0 M741.565 1534.04 L746.449 1534.04 L746.449 1539.92 L741.565 1539.92 L741.565 1534.04 Z\" fill=\"#000000\" fill-rule=\"evenodd\" fill-opacity=\"1\" /><path clip-path=\"url(#clip880)\" d=\"M 0 0 M751.565 1505.36 L769.922 1505.36 L769.922 1509.3 L755.848 1509.3 L755.848 1517.77 Q756.866 1517.42 757.885 1517.26 Q758.903 1517.07 759.922 1517.07 Q765.709 1517.07 769.088 1520.24 Q772.468 1523.42 772.468 1528.83 Q772.468 1534.41 768.996 1537.51 Q765.523 1540.59 759.204 1540.59 Q757.028 1540.59 754.76 1540.22 Q752.514 1539.85 750.107 1539.11 L750.107 1534.41 Q752.19 1535.54 754.412 1536.1 Q756.635 1536.66 759.111 1536.66 Q763.116 1536.66 765.454 1534.55 Q767.792 1532.44 767.792 1528.83 Q767.792 1525.22 765.454 1523.11 Q763.116 1521.01 759.111 1521.01 Q757.236 1521.01 755.361 1521.42 Q753.51 1521.84 751.565 1522.72 L751.565 1505.36 Z\" fill=\"#000000\" fill-rule=\"evenodd\" fill-opacity=\"1\" /><path clip-path=\"url(#clip880)\" d=\"M 0 0 M781.565 1535.98 L797.884 1535.98 L797.884 1539.92 L775.94 1539.92 L775.94 1535.98 Q778.602 1533.23 783.185 1528.6 Q787.792 1523.95 788.972 1522.61 Q791.218 1520.08 792.097 1518.35 Q793 1516.59 793 1514.9 Q793 1512.14 791.056 1510.41 Q789.134 1508.67 786.033 1508.67 Q783.833 1508.67 781.38 1509.43 Q778.949 1510.2 776.171 1511.75 L776.171 1507.03 Q778.996 1505.89 781.449 1505.31 Q783.903 1504.73 785.94 1504.73 Q791.31 1504.73 794.505 1507.42 Q797.699 1510.11 797.699 1514.6 Q797.699 1516.73 796.889 1518.65 Q796.102 1520.54 793.995 1523.14 Q793.417 1523.81 790.315 1527.03 Q787.213 1530.22 781.565 1535.98 Z\" fill=\"#000000\" fill-rule=\"evenodd\" fill-opacity=\"1\" /><path clip-path=\"url(#clip880)\" d=\"M 0 0 M812.954 1508.44 Q809.343 1508.44 807.514 1512 Q805.708 1515.55 805.708 1522.67 Q805.708 1529.78 807.514 1533.35 Q809.343 1536.89 812.954 1536.89 Q816.588 1536.89 818.393 1533.35 Q820.222 1529.78 820.222 1522.67 Q820.222 1515.55 818.393 1512 Q816.588 1508.44 812.954 1508.44 M812.954 1504.73 Q818.764 1504.73 821.819 1509.34 Q824.898 1513.92 824.898 1522.67 Q824.898 1531.4 821.819 1536.01 Q818.764 1540.59 812.954 1540.59 Q807.144 1540.59 804.065 1536.01 Q801.009 1531.4 801.009 1522.67 Q801.009 1513.92 804.065 1509.34 Q807.144 1504.73 812.954 1504.73 Z\" fill=\"#000000\" fill-rule=\"evenodd\" fill-opacity=\"1\" /><path clip-path=\"url(#clip880)\" d=\"M 0 0 M1061.99 1508.44 Q1058.37 1508.44 1056.55 1512 Q1054.74 1515.55 1054.74 1522.67 Q1054.74 1529.78 1056.55 1533.35 Q1058.37 1536.89 1061.99 1536.89 Q1065.62 1536.89 1067.43 1533.35 Q1069.25 1529.78 1069.25 1522.67 Q1069.25 1515.55 1067.43 1512 Q1065.62 1508.44 1061.99 1508.44 M1061.99 1504.73 Q1067.8 1504.73 1070.85 1509.34 Q1073.93 1513.92 1073.93 1522.67 Q1073.93 1531.4 1070.85 1536.01 Q1067.8 1540.59 1061.99 1540.59 Q1056.18 1540.59 1053.1 1536.01 Q1050.04 1531.4 1050.04 1522.67 Q1050.04 1513.92 1053.1 1509.34 Q1056.18 1504.73 1061.99 1504.73 Z\" fill=\"#000000\" fill-rule=\"evenodd\" fill-opacity=\"1\" /><path clip-path=\"url(#clip880)\" d=\"M 0 0 M1079 1534.04 L1083.88 1534.04 L1083.88 1539.92 L1079 1539.92 L1079 1534.04 Z\" fill=\"#000000\" fill-rule=\"evenodd\" fill-opacity=\"1\" /><path clip-path=\"url(#clip880)\" d=\"M 0 0 M1089 1505.36 L1107.36 1505.36 L1107.36 1509.3 L1093.28 1509.3 L1093.28 1517.77 Q1094.3 1517.42 1095.32 1517.26 Q1096.34 1517.07 1097.36 1517.07 Q1103.14 1517.07 1106.52 1520.24 Q1109.9 1523.42 1109.9 1528.83 Q1109.9 1534.41 1106.43 1537.51 Q1102.96 1540.59 1096.64 1540.59 Q1094.46 1540.59 1092.19 1540.22 Q1089.95 1539.85 1087.54 1539.11 L1087.54 1534.41 Q1089.62 1535.54 1091.85 1536.1 Q1094.07 1536.66 1096.55 1536.66 Q1100.55 1536.66 1102.89 1534.55 Q1105.23 1532.44 1105.23 1528.83 Q1105.23 1525.22 1102.89 1523.11 Q1100.55 1521.01 1096.55 1521.01 Q1094.67 1521.01 1092.8 1521.42 Q1090.94 1521.84 1089 1522.72 L1089 1505.36 Z\" fill=\"#000000\" fill-rule=\"evenodd\" fill-opacity=\"1\" /><path clip-path=\"url(#clip880)\" d=\"M 0 0 M1119 1535.98 L1135.32 1535.98 L1135.32 1539.92 L1113.37 1539.92 L1113.37 1535.98 Q1116.04 1533.23 1120.62 1528.6 Q1125.23 1523.95 1126.41 1522.61 Q1128.65 1520.08 1129.53 1518.35 Q1130.43 1516.59 1130.43 1514.9 Q1130.43 1512.14 1128.49 1510.41 Q1126.57 1508.67 1123.47 1508.67 Q1121.27 1508.67 1118.81 1509.43 Q1116.38 1510.2 1113.61 1511.75 L1113.61 1507.03 Q1116.43 1505.89 1118.88 1505.31 Q1121.34 1504.73 1123.37 1504.73 Q1128.74 1504.73 1131.94 1507.42 Q1135.13 1510.11 1135.13 1514.6 Q1135.13 1516.73 1134.32 1518.65 Q1133.54 1520.54 1131.43 1523.14 Q1130.85 1523.81 1127.75 1527.03 Q1124.65 1530.22 1119 1535.98 Z\" fill=\"#000000\" fill-rule=\"evenodd\" fill-opacity=\"1\" /><path clip-path=\"url(#clip880)\" d=\"M 0 0 M1141.2 1535.98 L1148.84 1535.98 L1148.84 1509.62 L1140.53 1511.29 L1140.53 1507.03 L1148.79 1505.36 L1153.47 1505.36 L1153.47 1535.98 L1161.11 1535.98 L1161.11 1539.92 L1141.2 1539.92 L1141.2 1535.98 Z\" fill=\"#000000\" fill-rule=\"evenodd\" fill-opacity=\"1\" /><path clip-path=\"url(#clip880)\" d=\"M 0 0 M1398.99 1508.44 Q1395.38 1508.44 1393.55 1512 Q1391.75 1515.55 1391.75 1522.67 Q1391.75 1529.78 1393.55 1533.35 Q1395.38 1536.89 1398.99 1536.89 Q1402.63 1536.89 1404.43 1533.35 Q1406.26 1529.78 1406.26 1522.67 Q1406.26 1515.55 1404.43 1512 Q1402.63 1508.44 1398.99 1508.44 M1398.99 1504.73 Q1404.8 1504.73 1407.86 1509.34 Q1410.94 1513.92 1410.94 1522.67 Q1410.94 1531.4 1407.86 1536.01 Q1404.8 1540.59 1398.99 1540.59 Q1393.18 1540.59 1390.1 1536.01 Q1387.05 1531.4 1387.05 1522.67 Q1387.05 1513.92 1390.1 1509.34 Q1393.18 1504.73 1398.99 1504.73 Z\" fill=\"#000000\" fill-rule=\"evenodd\" fill-opacity=\"1\" /><path clip-path=\"url(#clip880)\" d=\"M 0 0 M1416 1534.04 L1420.89 1534.04 L1420.89 1539.92 L1416 1539.92 L1416 1534.04 Z\" fill=\"#000000\" fill-rule=\"evenodd\" fill-opacity=\"1\" /><path clip-path=\"url(#clip880)\" d=\"M 0 0 M1426 1505.36 L1444.36 1505.36 L1444.36 1509.3 L1430.29 1509.3 L1430.29 1517.77 Q1431.31 1517.42 1432.32 1517.26 Q1433.34 1517.07 1434.36 1517.07 Q1440.15 1517.07 1443.53 1520.24 Q1446.91 1523.42 1446.91 1528.83 Q1446.91 1534.41 1443.44 1537.51 Q1439.96 1540.59 1433.64 1540.59 Q1431.47 1540.59 1429.2 1540.22 Q1426.95 1539.85 1424.55 1539.11 L1424.55 1534.41 Q1426.63 1535.54 1428.85 1536.1 Q1431.07 1536.66 1433.55 1536.66 Q1437.56 1536.66 1439.89 1534.55 Q1442.23 1532.44 1442.23 1528.83 Q1442.23 1525.22 1439.89 1523.11 Q1437.56 1521.01 1433.55 1521.01 Q1431.68 1521.01 1429.8 1521.42 Q1427.95 1521.84 1426 1522.72 L1426 1505.36 Z\" fill=\"#000000\" fill-rule=\"evenodd\" fill-opacity=\"1\" /><path clip-path=\"url(#clip880)\" d=\"M 0 0 M1456 1535.98 L1472.32 1535.98 L1472.32 1539.92 L1450.38 1539.92 L1450.38 1535.98 Q1453.04 1533.23 1457.63 1528.6 Q1462.23 1523.95 1463.41 1522.61 Q1465.66 1520.08 1466.54 1518.35 Q1467.44 1516.59 1467.44 1514.9 Q1467.44 1512.14 1465.5 1510.41 Q1463.57 1508.67 1460.47 1508.67 Q1458.27 1508.67 1455.82 1509.43 Q1453.39 1510.2 1450.61 1511.75 L1450.61 1507.03 Q1453.44 1505.89 1455.89 1505.31 Q1458.34 1504.73 1460.38 1504.73 Q1465.75 1504.73 1468.94 1507.42 Q1472.14 1510.11 1472.14 1514.6 Q1472.14 1516.73 1471.33 1518.65 Q1470.54 1520.54 1468.44 1523.14 Q1467.86 1523.81 1464.75 1527.03 Q1461.65 1530.22 1456 1535.98 Z\" fill=\"#000000\" fill-rule=\"evenodd\" fill-opacity=\"1\" /><path clip-path=\"url(#clip880)\" d=\"M 0 0 M1481.42 1535.98 L1497.74 1535.98 L1497.74 1539.92 L1475.8 1539.92 L1475.8 1535.98 Q1478.46 1533.23 1483.04 1528.6 Q1487.65 1523.95 1488.83 1522.61 Q1491.07 1520.08 1491.95 1518.35 Q1492.86 1516.59 1492.86 1514.9 Q1492.86 1512.14 1490.91 1510.41 Q1488.99 1508.67 1485.89 1508.67 Q1483.69 1508.67 1481.24 1509.43 Q1478.81 1510.2 1476.03 1511.75 L1476.03 1507.03 Q1478.85 1505.89 1481.31 1505.31 Q1483.76 1504.73 1485.8 1504.73 Q1491.17 1504.73 1494.36 1507.42 Q1497.56 1510.11 1497.56 1514.6 Q1497.56 1516.73 1496.75 1518.65 Q1495.96 1520.54 1493.85 1523.14 Q1493.27 1523.81 1490.17 1527.03 Q1487.07 1530.22 1481.42 1535.98 Z\" fill=\"#000000\" fill-rule=\"evenodd\" fill-opacity=\"1\" /><path clip-path=\"url(#clip880)\" d=\"M 0 0 M1735.34 1508.44 Q1731.73 1508.44 1729.9 1512 Q1728.09 1515.55 1728.09 1522.67 Q1728.09 1529.78 1729.9 1533.35 Q1731.73 1536.89 1735.34 1536.89 Q1738.97 1536.89 1740.78 1533.35 Q1742.61 1529.78 1742.61 1522.67 Q1742.61 1515.55 1740.78 1512 Q1738.97 1508.44 1735.34 1508.44 M1735.34 1504.73 Q1741.15 1504.73 1744.2 1509.34 Q1747.28 1513.92 1747.28 1522.67 Q1747.28 1531.4 1744.2 1536.01 Q1741.15 1540.59 1735.34 1540.59 Q1729.53 1540.59 1726.45 1536.01 Q1723.39 1531.4 1723.39 1522.67 Q1723.39 1513.92 1726.45 1509.34 Q1729.53 1504.73 1735.34 1504.73 Z\" fill=\"#000000\" fill-rule=\"evenodd\" fill-opacity=\"1\" /><path clip-path=\"url(#clip880)\" d=\"M 0 0 M1752.35 1534.04 L1757.24 1534.04 L1757.24 1539.92 L1752.35 1539.92 L1752.35 1534.04 Z\" fill=\"#000000\" fill-rule=\"evenodd\" fill-opacity=\"1\" /><path clip-path=\"url(#clip880)\" d=\"M 0 0 M1762.35 1505.36 L1780.71 1505.36 L1780.71 1509.3 L1766.63 1509.3 L1766.63 1517.77 Q1767.65 1517.42 1768.67 1517.26 Q1769.69 1517.07 1770.71 1517.07 Q1776.49 1517.07 1779.87 1520.24 Q1783.25 1523.42 1783.25 1528.83 Q1783.25 1534.41 1779.78 1537.51 Q1776.31 1540.59 1769.99 1540.59 Q1767.81 1540.59 1765.55 1540.22 Q1763.3 1539.85 1760.89 1539.11 L1760.89 1534.41 Q1762.98 1535.54 1765.2 1536.1 Q1767.42 1536.66 1769.9 1536.66 Q1773.9 1536.66 1776.24 1534.55 Q1778.58 1532.44 1778.58 1528.83 Q1778.58 1525.22 1776.24 1523.11 Q1773.9 1521.01 1769.9 1521.01 Q1768.02 1521.01 1766.15 1521.42 Q1764.3 1521.84 1762.35 1522.72 L1762.35 1505.36 Z\" fill=\"#000000\" fill-rule=\"evenodd\" fill-opacity=\"1\" /><path clip-path=\"url(#clip880)\" d=\"M 0 0 M1792.35 1535.98 L1808.67 1535.98 L1808.67 1539.92 L1786.73 1539.92 L1786.73 1535.98 Q1789.39 1533.23 1793.97 1528.6 Q1798.58 1523.95 1799.76 1522.61 Q1802 1520.08 1802.88 1518.35 Q1803.79 1516.59 1803.79 1514.9 Q1803.79 1512.14 1801.84 1510.41 Q1799.92 1508.67 1796.82 1508.67 Q1794.62 1508.67 1792.17 1509.43 Q1789.74 1510.2 1786.96 1511.75 L1786.96 1507.03 Q1789.78 1505.89 1792.24 1505.31 Q1794.69 1504.73 1796.73 1504.73 Q1802.1 1504.73 1805.29 1507.42 Q1808.49 1510.11 1808.49 1514.6 Q1808.49 1516.73 1807.67 1518.65 Q1806.89 1520.54 1804.78 1523.14 Q1804.2 1523.81 1801.1 1527.03 Q1798 1530.22 1792.35 1535.98 Z\" fill=\"#000000\" fill-rule=\"evenodd\" fill-opacity=\"1\" /><path clip-path=\"url(#clip880)\" d=\"M 0 0 M1827.91 1521.29 Q1831.26 1522 1833.14 1524.27 Q1835.04 1526.54 1835.04 1529.87 Q1835.04 1534.99 1831.52 1537.79 Q1828 1540.59 1821.52 1540.59 Q1819.34 1540.59 1817.03 1540.15 Q1814.73 1539.73 1812.28 1538.88 L1812.28 1534.36 Q1814.23 1535.5 1816.54 1536.08 Q1818.86 1536.66 1821.38 1536.66 Q1825.78 1536.66 1828.07 1534.92 Q1830.38 1533.18 1830.38 1529.87 Q1830.38 1526.82 1828.23 1525.11 Q1826.1 1523.37 1822.28 1523.37 L1818.25 1523.37 L1818.25 1519.53 L1822.47 1519.53 Q1825.92 1519.53 1827.74 1518.16 Q1829.57 1516.77 1829.57 1514.18 Q1829.57 1511.52 1827.67 1510.11 Q1825.8 1508.67 1822.28 1508.67 Q1820.36 1508.67 1818.16 1509.09 Q1815.96 1509.5 1813.32 1510.38 L1813.32 1506.22 Q1815.98 1505.48 1818.3 1505.11 Q1820.64 1504.73 1822.7 1504.73 Q1828.02 1504.73 1831.12 1507.17 Q1834.23 1509.57 1834.23 1513.69 Q1834.23 1516.56 1832.58 1518.55 Q1830.94 1520.52 1827.91 1521.29 Z\" fill=\"#000000\" fill-rule=\"evenodd\" fill-opacity=\"1\" /><path clip-path=\"url(#clip880)\" d=\"M 0 0 M2071.59 1508.44 Q2067.98 1508.44 2066.15 1512 Q2064.35 1515.55 2064.35 1522.67 Q2064.35 1529.78 2066.15 1533.35 Q2067.98 1536.89 2071.59 1536.89 Q2075.22 1536.89 2077.03 1533.35 Q2078.86 1529.78 2078.86 1522.67 Q2078.86 1515.55 2077.03 1512 Q2075.22 1508.44 2071.59 1508.44 M2071.59 1504.73 Q2077.4 1504.73 2080.46 1509.34 Q2083.54 1513.92 2083.54 1522.67 Q2083.54 1531.4 2080.46 1536.01 Q2077.4 1540.59 2071.59 1540.59 Q2065.78 1540.59 2062.7 1536.01 Q2059.65 1531.4 2059.65 1522.67 Q2059.65 1513.92 2062.7 1509.34 Q2065.78 1504.73 2071.59 1504.73 Z\" fill=\"#000000\" fill-rule=\"evenodd\" fill-opacity=\"1\" /><path clip-path=\"url(#clip880)\" d=\"M 0 0 M2088.6 1534.04 L2093.49 1534.04 L2093.49 1539.92 L2088.6 1539.92 L2088.6 1534.04 Z\" fill=\"#000000\" fill-rule=\"evenodd\" fill-opacity=\"1\" /><path clip-path=\"url(#clip880)\" d=\"M 0 0 M2098.6 1505.36 L2116.96 1505.36 L2116.96 1509.3 L2102.89 1509.3 L2102.89 1517.77 Q2103.91 1517.42 2104.92 1517.26 Q2105.94 1517.07 2106.96 1517.07 Q2112.75 1517.07 2116.13 1520.24 Q2119.51 1523.42 2119.51 1528.83 Q2119.51 1534.41 2116.03 1537.51 Q2112.56 1540.59 2106.24 1540.59 Q2104.07 1540.59 2101.8 1540.22 Q2099.55 1539.85 2097.15 1539.11 L2097.15 1534.41 Q2099.23 1535.54 2101.45 1536.1 Q2103.67 1536.66 2106.15 1536.66 Q2110.16 1536.66 2112.49 1534.55 Q2114.83 1532.44 2114.83 1528.83 Q2114.83 1525.22 2112.49 1523.11 Q2110.16 1521.01 2106.15 1521.01 Q2104.28 1521.01 2102.4 1521.42 Q2100.55 1521.84 2098.6 1522.72 L2098.6 1505.36 Z\" fill=\"#000000\" fill-rule=\"evenodd\" fill-opacity=\"1\" /><path clip-path=\"url(#clip880)\" d=\"M 0 0 M2128.6 1535.98 L2144.92 1535.98 L2144.92 1539.92 L2122.98 1539.92 L2122.98 1535.98 Q2125.64 1533.23 2130.22 1528.6 Q2134.83 1523.95 2136.01 1522.61 Q2138.26 1520.08 2139.14 1518.35 Q2140.04 1516.59 2140.04 1514.9 Q2140.04 1512.14 2138.1 1510.41 Q2136.17 1508.67 2133.07 1508.67 Q2130.87 1508.67 2128.42 1509.43 Q2125.99 1510.2 2123.21 1511.75 L2123.21 1507.03 Q2126.03 1505.89 2128.49 1505.31 Q2130.94 1504.73 2132.98 1504.73 Q2138.35 1504.73 2141.54 1507.42 Q2144.74 1510.11 2144.74 1514.6 Q2144.74 1516.73 2143.93 1518.65 Q2143.14 1520.54 2141.03 1523.14 Q2140.46 1523.81 2137.35 1527.03 Q2134.25 1530.22 2128.6 1535.98 Z\" fill=\"#000000\" fill-rule=\"evenodd\" fill-opacity=\"1\" /><path clip-path=\"url(#clip880)\" d=\"M 0 0 M2162.84 1509.43 L2151.03 1527.88 L2162.84 1527.88 L2162.84 1509.43 M2161.61 1505.36 L2167.49 1505.36 L2167.49 1527.88 L2172.42 1527.88 L2172.42 1531.77 L2167.49 1531.77 L2167.49 1539.92 L2162.84 1539.92 L2162.84 1531.77 L2147.24 1531.77 L2147.24 1527.26 L2161.61 1505.36 Z\" fill=\"#000000\" fill-rule=\"evenodd\" fill-opacity=\"1\" /><path clip-path=\"url(#clip880)\" d=\"M 0 0 M75.2374 1325.27 Q71.6263 1325.27 69.7976 1328.84 Q67.9921 1332.38 67.9921 1339.51 Q67.9921 1346.62 69.7976 1350.18 Q71.6263 1353.72 75.2374 1353.72 Q78.8717 1353.72 80.6772 1350.18 Q82.5059 1346.62 82.5059 1339.51 Q82.5059 1332.38 80.6772 1328.84 Q78.8717 1325.27 75.2374 1325.27 M75.2374 1321.57 Q81.0476 1321.57 84.1031 1326.18 Q87.1818 1330.76 87.1818 1339.51 Q87.1818 1348.24 84.1031 1352.84 Q81.0476 1357.43 75.2374 1357.43 Q69.4273 1357.43 66.3486 1352.84 Q63.2931 1348.24 63.2931 1339.51 Q63.2931 1330.76 66.3486 1326.18 Q69.4273 1321.57 75.2374 1321.57 Z\" fill=\"#000000\" fill-rule=\"evenodd\" fill-opacity=\"1\" /><path clip-path=\"url(#clip880)\" d=\"M 0 0 M92.2512 1350.87 L97.1355 1350.87 L97.1355 1356.75 L92.2512 1356.75 L92.2512 1350.87 Z\" fill=\"#000000\" fill-rule=\"evenodd\" fill-opacity=\"1\" /><path clip-path=\"url(#clip880)\" d=\"M 0 0 M102.251 1322.19 L120.608 1322.19 L120.608 1326.13 L106.534 1326.13 L106.534 1334.6 Q107.552 1334.25 108.571 1334.09 Q109.589 1333.91 110.608 1333.91 Q116.395 1333.91 119.774 1337.08 Q123.154 1340.25 123.154 1345.67 Q123.154 1351.25 119.682 1354.35 Q116.209 1357.43 109.89 1357.43 Q107.714 1357.43 105.446 1357.06 Q103.2 1356.68 100.793 1355.94 L100.793 1351.25 Q102.876 1352.38 105.098 1352.93 Q107.321 1353.49 109.797 1353.49 Q113.802 1353.49 116.14 1351.38 Q118.478 1349.28 118.478 1345.67 Q118.478 1342.06 116.14 1339.95 Q113.802 1337.84 109.797 1337.84 Q107.922 1337.84 106.047 1338.26 Q104.196 1338.68 102.251 1339.56 L102.251 1322.19 Z\" fill=\"#000000\" fill-rule=\"evenodd\" fill-opacity=\"1\" /><path clip-path=\"url(#clip880)\" d=\"M 0 0 M129.033 1352.82 L136.672 1352.82 L136.672 1326.45 L128.362 1328.12 L128.362 1323.86 L136.626 1322.19 L141.302 1322.19 L141.302 1352.82 L148.941 1352.82 L148.941 1356.75 L129.033 1356.75 L129.033 1352.82 Z\" fill=\"#000000\" fill-rule=\"evenodd\" fill-opacity=\"1\" /><path clip-path=\"url(#clip880)\" d=\"M 0 0 M154.149 1356.04 L154.149 1351.78 Q155.908 1352.61 157.714 1353.05 Q159.519 1353.49 161.255 1353.49 Q165.885 1353.49 168.316 1350.39 Q170.769 1347.26 171.117 1340.92 Q169.774 1342.91 167.714 1343.98 Q165.654 1345.04 163.154 1345.04 Q157.968 1345.04 154.936 1341.92 Q151.927 1338.77 151.927 1333.33 Q151.927 1328 155.075 1324.79 Q158.223 1321.57 163.455 1321.57 Q169.45 1321.57 172.598 1326.18 Q175.769 1330.76 175.769 1339.51 Q175.769 1347.68 171.88 1352.56 Q168.015 1357.43 161.464 1357.43 Q159.705 1357.43 157.899 1357.08 Q156.093 1356.73 154.149 1356.04 M163.455 1341.38 Q166.603 1341.38 168.431 1339.23 Q170.283 1337.08 170.283 1333.33 Q170.283 1329.6 168.431 1327.45 Q166.603 1325.27 163.455 1325.27 Q160.306 1325.27 158.455 1327.45 Q156.626 1329.6 156.626 1333.33 Q156.626 1337.08 158.455 1339.23 Q160.306 1341.38 163.455 1341.38 Z\" fill=\"#000000\" fill-rule=\"evenodd\" fill-opacity=\"1\" /><path clip-path=\"url(#clip880)\" d=\"M 0 0 M75.4226 1112.04 Q71.8115 1112.04 69.9828 1115.61 Q68.1773 1119.15 68.1773 1126.28 Q68.1773 1133.39 69.9828 1136.95 Q71.8115 1140.49 75.4226 1140.49 Q79.0569 1140.49 80.8624 1136.95 Q82.6911 1133.39 82.6911 1126.28 Q82.6911 1119.15 80.8624 1115.61 Q79.0569 1112.04 75.4226 1112.04 M75.4226 1108.34 Q81.2328 1108.34 84.2883 1112.95 Q87.367 1117.53 87.367 1126.28 Q87.367 1135.01 84.2883 1139.61 Q81.2328 1144.2 75.4226 1144.2 Q69.6125 1144.2 66.5338 1139.61 Q63.4782 1135.01 63.4782 1126.28 Q63.4782 1117.53 66.5338 1112.95 Q69.6125 1108.34 75.4226 1108.34 Z\" fill=\"#000000\" fill-rule=\"evenodd\" fill-opacity=\"1\" /><path clip-path=\"url(#clip880)\" d=\"M 0 0 M92.4364 1137.65 L97.3206 1137.65 L97.3206 1143.53 L92.4364 1143.53 L92.4364 1137.65 Z\" fill=\"#000000\" fill-rule=\"evenodd\" fill-opacity=\"1\" /><path clip-path=\"url(#clip880)\" d=\"M 0 0 M102.436 1108.97 L120.793 1108.97 L120.793 1112.9 L106.719 1112.9 L106.719 1121.37 Q107.737 1121.03 108.756 1120.86 Q109.774 1120.68 110.793 1120.68 Q116.58 1120.68 119.959 1123.85 Q123.339 1127.02 123.339 1132.44 Q123.339 1138.02 119.867 1141.12 Q116.395 1144.2 110.075 1144.2 Q107.899 1144.2 105.631 1143.83 Q103.385 1143.46 100.978 1142.72 L100.978 1138.02 Q103.061 1139.15 105.284 1139.71 Q107.506 1140.26 109.983 1140.26 Q113.987 1140.26 116.325 1138.16 Q118.663 1136.05 118.663 1132.44 Q118.663 1128.83 116.325 1126.72 Q113.987 1124.61 109.983 1124.61 Q108.108 1124.61 106.233 1125.03 Q104.381 1125.45 102.436 1126.33 L102.436 1108.97 Z\" fill=\"#000000\" fill-rule=\"evenodd\" fill-opacity=\"1\" /><path clip-path=\"url(#clip880)\" d=\"M 0 0 M132.436 1139.59 L148.756 1139.59 L148.756 1143.53 L126.811 1143.53 L126.811 1139.59 Q129.473 1136.84 134.057 1132.21 Q138.663 1127.55 139.844 1126.21 Q142.089 1123.69 142.969 1121.95 Q143.871 1120.19 143.871 1118.5 Q143.871 1115.75 141.927 1114.01 Q140.006 1112.28 136.904 1112.28 Q134.705 1112.28 132.251 1113.04 Q129.82 1113.8 127.043 1115.35 L127.043 1110.63 Q129.867 1109.5 132.32 1108.92 Q134.774 1108.34 136.811 1108.34 Q142.182 1108.34 145.376 1111.03 Q148.57 1113.71 148.57 1118.2 Q148.57 1120.33 147.76 1122.25 Q146.973 1124.15 144.867 1126.74 Q144.288 1127.41 141.186 1130.63 Q138.084 1133.83 132.436 1139.59 Z\" fill=\"#000000\" fill-rule=\"evenodd\" fill-opacity=\"1\" /><path clip-path=\"url(#clip880)\" d=\"M 0 0 M163.825 1112.04 Q160.214 1112.04 158.385 1115.61 Q156.58 1119.15 156.58 1126.28 Q156.58 1133.39 158.385 1136.95 Q160.214 1140.49 163.825 1140.49 Q167.459 1140.49 169.265 1136.95 Q171.093 1133.39 171.093 1126.28 Q171.093 1119.15 169.265 1115.61 Q167.459 1112.04 163.825 1112.04 M163.825 1108.34 Q169.635 1108.34 172.691 1112.95 Q175.769 1117.53 175.769 1126.28 Q175.769 1135.01 172.691 1139.61 Q169.635 1144.2 163.825 1144.2 Q158.015 1144.2 154.936 1139.61 Q151.881 1135.01 151.881 1126.28 Q151.881 1117.53 154.936 1112.95 Q158.015 1108.34 163.825 1108.34 Z\" fill=\"#000000\" fill-rule=\"evenodd\" fill-opacity=\"1\" /><path clip-path=\"url(#clip880)\" d=\"M 0 0 M76.6495 898.816 Q73.0384 898.816 71.2097 902.381 Q69.4041 905.922 69.4041 913.052 Q69.4041 920.158 71.2097 923.723 Q73.0384 927.265 76.6495 927.265 Q80.2837 927.265 82.0892 923.723 Q83.9179 920.158 83.9179 913.052 Q83.9179 905.922 82.0892 902.381 Q80.2837 898.816 76.6495 898.816 M76.6495 895.112 Q82.4596 895.112 85.5152 899.719 Q88.5938 904.302 88.5938 913.052 Q88.5938 921.779 85.5152 926.385 Q82.4596 930.968 76.6495 930.968 Q70.8393 930.968 67.7606 926.385 Q64.7051 921.779 64.7051 913.052 Q64.7051 904.302 67.7606 899.719 Q70.8393 895.112 76.6495 895.112 Z\" fill=\"#000000\" fill-rule=\"evenodd\" fill-opacity=\"1\" /><path clip-path=\"url(#clip880)\" d=\"M 0 0 M93.6633 924.418 L98.5475 924.418 L98.5475 930.297 L93.6633 930.297 L93.6633 924.418 Z\" fill=\"#000000\" fill-rule=\"evenodd\" fill-opacity=\"1\" /><path clip-path=\"url(#clip880)\" d=\"M 0 0 M103.663 895.737 L122.02 895.737 L122.02 899.672 L107.946 899.672 L107.946 908.144 Q108.964 907.797 109.983 907.635 Q111.001 907.45 112.02 907.45 Q117.807 907.45 121.186 910.621 Q124.566 913.793 124.566 919.209 Q124.566 924.788 121.094 927.89 Q117.621 930.968 111.302 930.968 Q109.126 930.968 106.858 930.598 Q104.612 930.228 102.205 929.487 L102.205 924.788 Q104.288 925.922 106.51 926.478 Q108.733 927.033 111.209 927.033 Q115.214 927.033 117.552 924.927 Q119.89 922.82 119.89 919.209 Q119.89 915.598 117.552 913.492 Q115.214 911.385 111.209 911.385 Q109.334 911.385 107.459 911.802 Q105.608 912.219 103.663 913.098 L103.663 895.737 Z\" fill=\"#000000\" fill-rule=\"evenodd\" fill-opacity=\"1\" /><path clip-path=\"url(#clip880)\" d=\"M 0 0 M133.663 926.362 L149.982 926.362 L149.982 930.297 L128.038 930.297 L128.038 926.362 Q130.7 923.607 135.283 918.978 Q139.89 914.325 141.07 912.982 Q143.316 910.459 144.195 908.723 Q145.098 906.964 145.098 905.274 Q145.098 902.52 143.154 900.783 Q141.232 899.047 138.131 899.047 Q135.932 899.047 133.478 899.811 Q131.047 900.575 128.27 902.126 L128.27 897.404 Q131.094 896.27 133.547 895.691 Q136.001 895.112 138.038 895.112 Q143.408 895.112 146.603 897.797 Q149.797 900.483 149.797 904.973 Q149.797 907.103 148.987 909.024 Q148.2 910.922 146.094 913.515 Q145.515 914.186 142.413 917.404 Q139.311 920.598 133.663 926.362 Z\" fill=\"#000000\" fill-rule=\"evenodd\" fill-opacity=\"1\" /><path clip-path=\"url(#clip880)\" d=\"M 0 0 M155.862 926.362 L163.501 926.362 L163.501 899.996 L155.191 901.663 L155.191 897.404 L163.455 895.737 L168.13 895.737 L168.13 926.362 L175.769 926.362 L175.769 930.297 L155.862 930.297 L155.862 926.362 Z\" fill=\"#000000\" fill-rule=\"evenodd\" fill-opacity=\"1\" /><path clip-path=\"url(#clip880)\" d=\"M 0 0 M77.0198 685.587 Q73.4087 685.587 71.58 689.152 Q69.7745 692.694 69.7745 699.823 Q69.7745 706.93 71.58 710.495 Q73.4087 714.036 77.0198 714.036 Q80.6541 714.036 82.4596 710.495 Q84.2883 706.93 84.2883 699.823 Q84.2883 692.694 82.4596 689.152 Q80.6541 685.587 77.0198 685.587 M77.0198 681.884 Q82.83 681.884 85.8855 686.49 Q88.9642 691.073 88.9642 699.823 Q88.9642 708.55 85.8855 713.157 Q82.83 717.74 77.0198 717.74 Q71.2097 717.74 68.131 713.157 Q65.0754 708.55 65.0754 699.823 Q65.0754 691.073 68.131 686.49 Q71.2097 681.884 77.0198 681.884 Z\" fill=\"#000000\" fill-rule=\"evenodd\" fill-opacity=\"1\" /><path clip-path=\"url(#clip880)\" d=\"M 0 0 M94.0336 711.189 L98.9179 711.189 L98.9179 717.069 L94.0336 717.069 L94.0336 711.189 Z\" fill=\"#000000\" fill-rule=\"evenodd\" fill-opacity=\"1\" /><path clip-path=\"url(#clip880)\" d=\"M 0 0 M104.034 682.509 L122.39 682.509 L122.39 686.444 L108.316 686.444 L108.316 694.916 Q109.334 694.569 110.353 694.407 Q111.371 694.221 112.39 694.221 Q118.177 694.221 121.557 697.393 Q124.936 700.564 124.936 705.981 Q124.936 711.559 121.464 714.661 Q117.992 717.74 111.672 717.74 Q109.497 717.74 107.228 717.369 Q104.983 716.999 102.575 716.258 L102.575 711.559 Q104.659 712.694 106.881 713.249 Q109.103 713.805 111.58 713.805 Q115.584 713.805 117.922 711.698 Q120.26 709.592 120.26 705.981 Q120.26 702.37 117.922 700.263 Q115.584 698.157 111.58 698.157 Q109.705 698.157 107.83 698.573 Q105.978 698.99 104.034 699.87 L104.034 682.509 Z\" fill=\"#000000\" fill-rule=\"evenodd\" fill-opacity=\"1\" /><path clip-path=\"url(#clip880)\" d=\"M 0 0 M134.033 713.133 L150.353 713.133 L150.353 717.069 L128.408 717.069 L128.408 713.133 Q131.07 710.379 135.654 705.749 Q140.26 701.096 141.441 699.754 Q143.686 697.231 144.566 695.495 Q145.469 693.735 145.469 692.046 Q145.469 689.291 143.524 687.555 Q141.603 685.819 138.501 685.819 Q136.302 685.819 133.848 686.583 Q131.418 687.346 128.64 688.897 L128.64 684.175 Q131.464 683.041 133.918 682.462 Q136.371 681.884 138.408 681.884 Q143.779 681.884 146.973 684.569 Q150.168 687.254 150.168 691.745 Q150.168 693.874 149.357 695.796 Q148.57 697.694 146.464 700.286 Q145.885 700.958 142.783 704.175 Q139.682 707.37 134.033 713.133 Z\" fill=\"#000000\" fill-rule=\"evenodd\" fill-opacity=\"1\" /><path clip-path=\"url(#clip880)\" d=\"M 0 0 M159.45 713.133 L175.769 713.133 L175.769 717.069 L153.825 717.069 L153.825 713.133 Q156.487 710.379 161.07 705.749 Q165.677 701.096 166.857 699.754 Q169.103 697.231 169.982 695.495 Q170.885 693.735 170.885 692.046 Q170.885 689.291 168.941 687.555 Q167.019 685.819 163.918 685.819 Q161.718 685.819 159.265 686.583 Q156.834 687.346 154.056 688.897 L154.056 684.175 Q156.881 683.041 159.334 682.462 Q161.788 681.884 163.825 681.884 Q169.195 681.884 172.39 684.569 Q175.584 687.254 175.584 691.745 Q175.584 693.874 174.774 695.796 Q173.987 697.694 171.88 700.286 Q171.302 700.958 168.2 704.175 Q165.098 707.37 159.45 713.133 Z\" fill=\"#000000\" fill-rule=\"evenodd\" fill-opacity=\"1\" /><path clip-path=\"url(#clip880)\" d=\"M 0 0 M76.0708 472.359 Q72.4597 472.359 70.631 475.923 Q68.8254 479.465 68.8254 486.595 Q68.8254 493.701 70.631 497.266 Q72.4597 500.808 76.0708 500.808 Q79.705 500.808 81.5105 497.266 Q83.3392 493.701 83.3392 486.595 Q83.3392 479.465 81.5105 475.923 Q79.705 472.359 76.0708 472.359 M76.0708 468.655 Q81.8809 468.655 84.9365 473.261 Q88.0151 477.845 88.0151 486.595 Q88.0151 495.321 84.9365 499.928 Q81.8809 504.511 76.0708 504.511 Q70.2606 504.511 67.1819 499.928 Q64.1264 495.321 64.1264 486.595 Q64.1264 477.845 67.1819 473.261 Q70.2606 468.655 76.0708 468.655 Z\" fill=\"#000000\" fill-rule=\"evenodd\" fill-opacity=\"1\" /><path clip-path=\"url(#clip880)\" d=\"M 0 0 M93.0846 497.96 L97.9688 497.96 L97.9688 503.84 L93.0846 503.84 L93.0846 497.96 Z\" fill=\"#000000\" fill-rule=\"evenodd\" fill-opacity=\"1\" /><path clip-path=\"url(#clip880)\" d=\"M 0 0 M103.085 469.28 L121.441 469.28 L121.441 473.215 L107.367 473.215 L107.367 481.687 Q108.385 481.34 109.404 481.178 Q110.422 480.993 111.441 480.993 Q117.228 480.993 120.608 484.164 Q123.987 487.335 123.987 492.752 Q123.987 498.331 120.515 501.433 Q117.043 504.511 110.723 504.511 Q108.547 504.511 106.279 504.141 Q104.034 503.771 101.626 503.03 L101.626 498.331 Q103.71 499.465 105.932 500.021 Q108.154 500.576 110.631 500.576 Q114.635 500.576 116.973 498.47 Q119.311 496.363 119.311 492.752 Q119.311 489.141 116.973 487.034 Q114.635 484.928 110.631 484.928 Q108.756 484.928 106.881 485.345 Q105.029 485.761 103.085 486.641 L103.085 469.28 Z\" fill=\"#000000\" fill-rule=\"evenodd\" fill-opacity=\"1\" /><path clip-path=\"url(#clip880)\" d=\"M 0 0 M133.084 499.905 L149.404 499.905 L149.404 503.84 L127.459 503.84 L127.459 499.905 Q130.121 497.15 134.705 492.521 Q139.311 487.868 140.492 486.525 Q142.737 484.002 143.617 482.266 Q144.519 480.507 144.519 478.817 Q144.519 476.062 142.575 474.326 Q140.654 472.59 137.552 472.59 Q135.353 472.59 132.899 473.354 Q130.469 474.118 127.691 475.669 L127.691 470.947 Q130.515 469.812 132.969 469.234 Q135.422 468.655 137.459 468.655 Q142.83 468.655 146.024 471.34 Q149.219 474.025 149.219 478.516 Q149.219 480.646 148.408 482.567 Q147.621 484.465 145.515 487.058 Q144.936 487.729 141.834 490.947 Q138.732 494.141 133.084 499.905 Z\" fill=\"#000000\" fill-rule=\"evenodd\" fill-opacity=\"1\" /><path clip-path=\"url(#clip880)\" d=\"M 0 0 M168.64 485.206 Q171.996 485.923 173.871 488.192 Q175.769 490.46 175.769 493.794 Q175.769 498.909 172.251 501.71 Q168.732 504.511 162.251 504.511 Q160.075 504.511 157.76 504.071 Q155.468 503.655 153.015 502.798 L153.015 498.284 Q154.959 499.419 157.274 499.997 Q159.589 500.576 162.112 500.576 Q166.51 500.576 168.802 498.84 Q171.117 497.104 171.117 493.794 Q171.117 490.738 168.964 489.025 Q166.834 487.289 163.015 487.289 L158.987 487.289 L158.987 483.447 L163.2 483.447 Q166.649 483.447 168.478 482.081 Q170.306 480.692 170.306 478.099 Q170.306 475.437 168.408 474.025 Q166.533 472.59 163.015 472.59 Q161.093 472.59 158.894 473.007 Q156.695 473.423 154.056 474.303 L154.056 470.136 Q156.718 469.396 159.033 469.025 Q161.371 468.655 163.431 468.655 Q168.755 468.655 171.857 471.086 Q174.959 473.493 174.959 477.613 Q174.959 480.484 173.316 482.474 Q171.672 484.442 168.64 485.206 Z\" fill=\"#000000\" fill-rule=\"evenodd\" fill-opacity=\"1\" /><path clip-path=\"url(#clip880)\" d=\"M 0 0 M74.9365 259.13 Q71.3254 259.13 69.4967 262.695 Q67.6912 266.236 67.6912 273.366 Q67.6912 280.473 69.4967 284.037 Q71.3254 287.579 74.9365 287.579 Q78.5707 287.579 80.3763 284.037 Q82.205 280.473 82.205 273.366 Q82.205 266.236 80.3763 262.695 Q78.5707 259.13 74.9365 259.13 M74.9365 255.426 Q80.7467 255.426 83.8022 260.033 Q86.8809 264.616 86.8809 273.366 Q86.8809 282.093 83.8022 286.699 Q80.7467 291.283 74.9365 291.283 Q69.1264 291.283 66.0477 286.699 Q62.9921 282.093 62.9921 273.366 Q62.9921 264.616 66.0477 260.033 Q69.1264 255.426 74.9365 255.426 Z\" fill=\"#000000\" fill-rule=\"evenodd\" fill-opacity=\"1\" /><path clip-path=\"url(#clip880)\" d=\"M 0 0 M91.9503 284.732 L96.8345 284.732 L96.8345 290.611 L91.9503 290.611 L91.9503 284.732 Z\" fill=\"#000000\" fill-rule=\"evenodd\" fill-opacity=\"1\" /><path clip-path=\"url(#clip880)\" d=\"M 0 0 M101.95 256.051 L120.307 256.051 L120.307 259.987 L106.233 259.987 L106.233 268.459 Q107.251 268.111 108.27 267.949 Q109.288 267.764 110.307 267.764 Q116.094 267.764 119.473 270.936 Q122.853 274.107 122.853 279.523 Q122.853 285.102 119.381 288.204 Q115.909 291.283 109.589 291.283 Q107.413 291.283 105.145 290.912 Q102.899 290.542 100.492 289.801 L100.492 285.102 Q102.575 286.236 104.797 286.792 Q107.02 287.347 109.497 287.347 Q113.501 287.347 115.839 285.241 Q118.177 283.135 118.177 279.523 Q118.177 275.912 115.839 273.806 Q113.501 271.699 109.497 271.699 Q107.622 271.699 105.747 272.116 Q103.895 272.533 101.95 273.412 L101.95 256.051 Z\" fill=\"#000000\" fill-rule=\"evenodd\" fill-opacity=\"1\" /><path clip-path=\"url(#clip880)\" d=\"M 0 0 M131.95 286.676 L148.269 286.676 L148.269 290.611 L126.325 290.611 L126.325 286.676 Q128.987 283.922 133.57 279.292 Q138.177 274.639 139.357 273.297 Q141.603 270.774 142.482 269.037 Q143.385 267.278 143.385 265.588 Q143.385 262.834 141.441 261.098 Q139.519 259.362 136.418 259.362 Q134.219 259.362 131.765 260.125 Q129.334 260.889 126.557 262.44 L126.557 257.718 Q129.381 256.584 131.834 256.005 Q134.288 255.426 136.325 255.426 Q141.695 255.426 144.89 258.112 Q148.084 260.797 148.084 265.287 Q148.084 267.417 147.274 269.338 Q146.487 271.236 144.381 273.829 Q143.802 274.5 140.7 277.718 Q137.598 280.912 131.95 286.676 Z\" fill=\"#000000\" fill-rule=\"evenodd\" fill-opacity=\"1\" /><path clip-path=\"url(#clip880)\" d=\"M 0 0 M166.186 260.125 L154.381 278.574 L166.186 278.574 L166.186 260.125 M164.959 256.051 L170.839 256.051 L170.839 278.574 L175.769 278.574 L175.769 282.463 L170.839 282.463 L170.839 290.611 L166.186 290.611 L166.186 282.463 L150.584 282.463 L150.584 277.949 L164.959 256.051 Z\" fill=\"#000000\" fill-rule=\"evenodd\" fill-opacity=\"1\" /><path clip-path=\"url(#clip880)\" d=\"M 0 0 M1005.01 12.096 L1013.28 12.096 L1026 63.2184 L1038.68 12.096 L1047.87 12.096 L1060.59 63.2184 L1073.27 12.096 L1081.58 12.096 L1066.39 72.576 L1056.1 72.576 L1043.34 20.0763 L1030.45 72.576 L1020.16 72.576 L1005.01 12.096 Z\" fill=\"#000000\" fill-rule=\"evenodd\" fill-opacity=\"1\" /><path clip-path=\"url(#clip880)\" d=\"M 0 0 M1102.11 32.4315 Q1096.12 32.4315 1092.64 37.1306 Q1089.15 41.7891 1089.15 49.9314 Q1089.15 58.0738 1092.59 62.7728 Q1096.08 67.4314 1102.11 67.4314 Q1108.07 67.4314 1111.55 62.7323 Q1115.04 58.0333 1115.04 49.9314 Q1115.04 41.8701 1111.55 37.1711 Q1108.07 32.4315 1102.11 32.4315 M1102.11 26.1121 Q1111.84 26.1121 1117.39 32.4315 Q1122.94 38.7509 1122.94 49.9314 Q1122.94 61.0714 1117.39 67.4314 Q1111.84 73.7508 1102.11 73.7508 Q1092.35 73.7508 1086.8 67.4314 Q1081.29 61.0714 1081.29 49.9314 Q1081.29 38.7509 1086.8 32.4315 Q1092.35 26.1121 1102.11 26.1121 Z\" fill=\"#000000\" fill-rule=\"evenodd\" fill-opacity=\"1\" /><path clip-path=\"url(#clip880)\" d=\"M 0 0 M1157.04 34.1734 Q1155.79 33.4443 1154.29 33.1202 Q1152.83 32.7556 1151.05 32.7556 Q1144.73 32.7556 1141.33 36.8875 Q1137.96 40.9789 1137.96 48.6757 L1137.96 72.576 L1130.47 72.576 L1130.47 27.2059 L1137.96 27.2059 L1137.96 34.2544 Q1140.31 30.1225 1144.08 28.1376 Q1147.85 26.1121 1153.24 26.1121 Q1154.01 26.1121 1154.94 26.2337 Q1155.87 26.3147 1157 26.5172 L1157.04 34.1734 Z\" fill=\"#000000\" fill-rule=\"evenodd\" fill-opacity=\"1\" /><path clip-path=\"url(#clip880)\" d=\"M 0 0 M1193.26 34.0924 L1193.26 9.54393 L1200.71 9.54393 L1200.71 72.576 L1193.26 72.576 L1193.26 65.7705 Q1190.91 69.8214 1187.3 71.8063 Q1183.74 73.7508 1178.72 73.7508 Q1170.49 73.7508 1165.31 67.1883 Q1160.16 60.6258 1160.16 49.9314 Q1160.16 39.2371 1165.31 32.6746 Q1170.49 26.1121 1178.72 26.1121 Q1183.74 26.1121 1187.3 28.0971 Q1190.91 30.0415 1193.26 34.0924 M1167.86 49.9314 Q1167.86 58.1548 1171.22 62.8538 Q1174.63 67.5124 1180.54 67.5124 Q1186.45 67.5124 1189.86 62.8538 Q1193.26 58.1548 1193.26 49.9314 Q1193.26 41.7081 1189.86 37.0496 Q1186.45 32.3505 1180.54 32.3505 Q1174.63 32.3505 1171.22 37.0496 Q1167.86 41.7081 1167.86 49.9314 Z\" fill=\"#000000\" fill-rule=\"evenodd\" fill-opacity=\"1\" /><path clip-path=\"url(#clip880)\" d=\"M 0 0 M1216.63 65.6895 L1245.19 65.6895 L1245.19 72.576 L1206.79 72.576 L1206.79 65.6895 Q1211.45 60.8689 1219.47 52.7671 Q1227.53 44.6248 1229.6 42.2752 Q1233.53 37.8598 1235.06 34.8216 Q1236.64 31.7429 1236.64 28.7857 Q1236.64 23.9651 1233.24 20.927 Q1229.88 17.8888 1224.45 17.8888 Q1220.6 17.8888 1216.31 19.2256 Q1212.06 20.5624 1207.19 23.2765 L1207.19 15.0127 Q1212.14 13.0277 1216.43 12.015 Q1220.72 11.0023 1224.29 11.0023 Q1233.69 11.0023 1239.28 15.7013 Q1244.87 20.4004 1244.87 28.2591 Q1244.87 31.9859 1243.45 35.3482 Q1242.07 38.6699 1238.39 43.2069 Q1237.37 44.3817 1231.95 50.0125 Q1226.52 55.6027 1216.63 65.6895 Z\" fill=\"#000000\" fill-rule=\"evenodd\" fill-opacity=\"1\" /><path clip-path=\"url(#clip880)\" d=\"M 0 0 M1268.93 72.576 L1245.84 12.096 L1254.39 12.096 L1273.55 63.0159 L1292.75 12.096 L1301.26 12.096 L1278.21 72.576 L1268.93 72.576 Z\" fill=\"#000000\" fill-rule=\"evenodd\" fill-opacity=\"1\" /><path clip-path=\"url(#clip880)\" d=\"M 0 0 M1341.44 48.0275 L1341.44 51.6733 L1307.17 51.6733 Q1307.66 59.3701 1311.79 63.421 Q1315.96 67.4314 1323.37 67.4314 Q1327.67 67.4314 1331.68 66.3781 Q1335.73 65.3249 1339.7 63.2184 L1339.7 70.267 Q1335.69 71.9684 1331.48 72.8596 Q1327.26 73.7508 1322.93 73.7508 Q1312.07 73.7508 1305.71 67.4314 Q1299.39 61.1119 1299.39 50.3365 Q1299.39 39.1965 1305.39 32.6746 Q1311.42 26.1121 1321.63 26.1121 Q1330.79 26.1121 1336.09 32.0264 Q1341.44 37.9003 1341.44 48.0275 M1333.99 45.84 Q1333.91 39.7232 1330.54 36.0774 Q1327.22 32.4315 1321.71 32.4315 Q1315.48 32.4315 1311.71 35.9558 Q1307.98 39.4801 1307.41 45.8805 L1333.99 45.84 Z\" fill=\"#000000\" fill-rule=\"evenodd\" fill-opacity=\"1\" /><path clip-path=\"url(#clip880)\" d=\"M 0 0 M1381.91 28.9478 L1381.91 35.9153 Q1378.75 34.1734 1375.55 33.3227 Q1372.39 32.4315 1369.15 32.4315 Q1361.9 32.4315 1357.89 37.0496 Q1353.88 41.6271 1353.88 49.9314 Q1353.88 58.2358 1357.89 62.8538 Q1361.9 67.4314 1369.15 67.4314 Q1372.39 67.4314 1375.55 66.5807 Q1378.75 65.6895 1381.91 63.9476 L1381.91 70.8341 Q1378.79 72.2924 1375.43 73.0216 Q1372.11 73.7508 1368.34 73.7508 Q1358.09 73.7508 1352.06 67.3098 Q1346.02 60.8689 1346.02 49.9314 Q1346.02 38.832 1352.1 32.472 Q1358.21 26.1121 1368.83 26.1121 Q1372.27 26.1121 1375.55 26.8413 Q1378.83 27.5299 1381.91 28.9478 Z\" fill=\"#000000\" fill-rule=\"evenodd\" fill-opacity=\"1\" /><path clip-path=\"url(#clip880)\" d=\"M 0 0 M1424.61 18.8205 L1424.61 41.5461 L1434.9 41.5461 Q1440.61 41.5461 1443.73 38.5889 Q1446.85 35.6318 1446.85 30.163 Q1446.85 24.7348 1443.73 21.7777 Q1440.61 18.8205 1434.9 18.8205 L1424.61 18.8205 M1416.42 12.096 L1434.9 12.096 Q1445.06 12.096 1450.25 16.714 Q1455.47 21.2916 1455.47 30.163 Q1455.47 39.1155 1450.25 43.6931 Q1445.06 48.2706 1434.9 48.2706 L1424.61 48.2706 L1424.61 72.576 L1416.42 72.576 L1416.42 12.096 Z\" fill=\"#000000\" fill-rule=\"evenodd\" fill-opacity=\"1\" /><path clip-path=\"url(#clip880)\" d=\"M 0 0 M1463.29 9.54393 L1470.75 9.54393 L1470.75 72.576 L1463.29 72.576 L1463.29 9.54393 Z\" fill=\"#000000\" fill-rule=\"evenodd\" fill-opacity=\"1\" /><path clip-path=\"url(#clip880)\" d=\"M 0 0 M1496.15 32.4315 Q1490.15 32.4315 1486.67 37.1306 Q1483.18 41.7891 1483.18 49.9314 Q1483.18 58.0738 1486.63 62.7728 Q1490.11 67.4314 1496.15 67.4314 Q1502.1 67.4314 1505.58 62.7323 Q1509.07 58.0333 1509.07 49.9314 Q1509.07 41.8701 1505.58 37.1711 Q1502.1 32.4315 1496.15 32.4315 M1496.15 26.1121 Q1505.87 26.1121 1511.42 32.4315 Q1516.97 38.7509 1516.97 49.9314 Q1516.97 61.0714 1511.42 67.4314 Q1505.87 73.7508 1496.15 73.7508 Q1486.38 73.7508 1480.83 67.4314 Q1475.32 61.0714 1475.32 49.9314 Q1475.32 38.7509 1480.83 32.4315 Q1486.38 26.1121 1496.15 26.1121 Z\" fill=\"#000000\" fill-rule=\"evenodd\" fill-opacity=\"1\" /><path clip-path=\"url(#clip880)\" d=\"M 0 0 M1532.16 14.324 L1532.16 27.2059 L1547.51 27.2059 L1547.51 32.9987 L1532.16 32.9987 L1532.16 57.6282 Q1532.16 63.1779 1533.66 64.7578 Q1535.2 66.3376 1539.85 66.3376 L1547.51 66.3376 L1547.51 72.576 L1539.85 72.576 Q1531.23 72.576 1527.95 69.3758 Q1524.66 66.1351 1524.66 57.6282 L1524.66 32.9987 L1519.2 32.9987 L1519.2 27.2059 L1524.66 27.2059 L1524.66 14.324 L1532.16 14.324 Z\" fill=\"#000000\" fill-rule=\"evenodd\" fill-opacity=\"1\" /><circle clip-path=\"url(#clip882)\" cx=\"260.703\" cy=\"1447.87\" r=\"14\" fill=\"#009af9\" fill-rule=\"evenodd\" fill-opacity=\"1\" stroke=\"#000000\" stroke-opacity=\"1\" stroke-width=\"3.2\"/>\n",
       "<circle clip-path=\"url(#clip882)\" cx=\"1883.58\" cy=\"420.487\" r=\"14\" fill=\"#009af9\" fill-rule=\"evenodd\" fill-opacity=\"1\" stroke=\"#000000\" stroke-opacity=\"1\" stroke-width=\"3.2\"/>\n",
       "<circle clip-path=\"url(#clip882)\" cx=\"932.945\" cy=\"1022.3\" r=\"14\" fill=\"#009af9\" fill-rule=\"evenodd\" fill-opacity=\"1\" stroke=\"#000000\" stroke-opacity=\"1\" stroke-width=\"3.2\"/>\n",
       "<circle clip-path=\"url(#clip882)\" cx=\"766.06\" cy=\"1127.95\" r=\"14\" fill=\"#009af9\" fill-rule=\"evenodd\" fill-opacity=\"1\" stroke=\"#000000\" stroke-opacity=\"1\" stroke-width=\"3.2\"/>\n",
       "<circle clip-path=\"url(#clip882)\" cx=\"686.007\" cy=\"1178.63\" r=\"14\" fill=\"#009af9\" fill-rule=\"evenodd\" fill-opacity=\"1\" stroke=\"#000000\" stroke-opacity=\"1\" stroke-width=\"3.2\"/>\n",
       "<circle clip-path=\"url(#clip882)\" cx=\"1058.24\" cy=\"942.983\" r=\"14\" fill=\"#009af9\" fill-rule=\"evenodd\" fill-opacity=\"1\" stroke=\"#000000\" stroke-opacity=\"1\" stroke-width=\"3.2\"/>\n",
       "<circle clip-path=\"url(#clip882)\" cx=\"815.544\" cy=\"1096.62\" r=\"14\" fill=\"#009af9\" fill-rule=\"evenodd\" fill-opacity=\"1\" stroke=\"#000000\" stroke-opacity=\"1\" stroke-width=\"3.2\"/>\n",
       "<circle clip-path=\"url(#clip882)\" cx=\"851.153\" cy=\"1074.08\" r=\"14\" fill=\"#009af9\" fill-rule=\"evenodd\" fill-opacity=\"1\" stroke=\"#000000\" stroke-opacity=\"1\" stroke-width=\"3.2\"/>\n",
       "<circle clip-path=\"url(#clip882)\" cx=\"411.826\" cy=\"1352.2\" r=\"14\" fill=\"#009af9\" fill-rule=\"evenodd\" fill-opacity=\"1\" stroke=\"#000000\" stroke-opacity=\"1\" stroke-width=\"3.2\"/>\n",
       "<circle clip-path=\"url(#clip882)\" cx=\"2291.82\" cy=\"162.047\" r=\"14\" fill=\"#009af9\" fill-rule=\"evenodd\" fill-opacity=\"1\" stroke=\"#000000\" stroke-opacity=\"1\" stroke-width=\"3.2\"/>\n",
       "<path clip-path=\"url(#clip880)\" d=\"M 0 0 M186.308 1453.56 L186.308 1457.21 L152.037 1457.21 Q152.523 1464.91 156.655 1468.96 Q160.828 1472.97 168.241 1472.97 Q172.535 1472.97 176.545 1471.92 Q180.596 1470.86 184.566 1468.76 L184.566 1475.8 Q180.556 1477.51 176.343 1478.4 Q172.13 1479.29 167.795 1479.29 Q156.939 1479.29 150.579 1472.97 Q144.26 1466.65 144.26 1455.87 Q144.26 1444.73 150.255 1438.21 Q156.291 1431.65 166.499 1431.65 Q175.654 1431.65 180.961 1437.56 Q186.308 1443.44 186.308 1453.56 M178.854 1451.38 Q178.773 1445.26 175.411 1441.61 Q172.089 1437.97 166.58 1437.97 Q160.342 1437.97 156.574 1441.49 Q152.848 1445.02 152.28 1451.42 L178.854 1451.38 Z\" fill=\"#000000\" fill-rule=\"evenodd\" fill-opacity=\"1\" /><path clip-path=\"url(#clip880)\" d=\"M 0 0 M229.45 1441.45 Q232.245 1436.43 236.134 1434.04 Q240.023 1431.65 245.289 1431.65 Q252.378 1431.65 256.227 1436.63 Q260.075 1441.57 260.075 1450.73 L260.075 1478.11 L252.581 1478.11 L252.581 1450.97 Q252.581 1444.45 250.272 1441.29 Q247.963 1438.13 243.223 1438.13 Q237.43 1438.13 234.068 1441.98 Q230.706 1445.83 230.706 1452.47 L230.706 1478.11 L223.212 1478.11 L223.212 1450.97 Q223.212 1444.41 220.903 1441.29 Q218.594 1438.13 213.773 1438.13 Q208.061 1438.13 204.699 1442.02 Q201.337 1445.87 201.337 1452.47 L201.337 1478.11 L193.843 1478.11 L193.843 1432.74 L201.337 1432.74 L201.337 1439.79 Q203.889 1435.62 207.454 1433.63 Q211.019 1431.65 215.92 1431.65 Q220.862 1431.65 224.306 1434.16 Q227.789 1436.67 229.45 1441.45 Z\" fill=\"#000000\" fill-rule=\"evenodd\" fill-opacity=\"1\" /><path clip-path=\"url(#clip880)\" d=\"M 0 0 M303.217 1441.45 Q306.012 1436.43 309.901 1434.04 Q313.79 1431.65 319.056 1431.65 Q326.145 1431.65 329.994 1436.63 Q333.842 1441.57 333.842 1450.73 L333.842 1478.11 L326.348 1478.11 L326.348 1450.97 Q326.348 1444.45 324.039 1441.29 Q321.73 1438.13 316.99 1438.13 Q311.197 1438.13 307.835 1441.98 Q304.473 1445.83 304.473 1452.47 L304.473 1478.11 L296.979 1478.11 L296.979 1450.97 Q296.979 1444.41 294.67 1441.29 Q292.361 1438.13 287.54 1438.13 Q281.828 1438.13 278.466 1442.02 Q275.104 1445.87 275.104 1452.47 L275.104 1478.11 L267.61 1478.11 L267.61 1432.74 L275.104 1432.74 L275.104 1439.79 Q277.656 1435.62 281.221 1433.63 Q284.786 1431.65 289.687 1431.65 Q294.629 1431.65 298.072 1434.16 Q301.556 1436.67 303.217 1441.45 Z\" fill=\"#000000\" fill-rule=\"evenodd\" fill-opacity=\"1\" /><path clip-path=\"url(#clip880)\" d=\"M 0 0 M362.279 1455.31 Q353.246 1455.31 349.762 1457.37 Q346.278 1459.44 346.278 1464.42 Q346.278 1468.39 348.871 1470.74 Q351.504 1473.05 356 1473.05 Q362.198 1473.05 365.925 1468.67 Q369.692 1464.26 369.692 1456.97 L369.692 1455.31 L362.279 1455.31 M377.146 1452.23 L377.146 1478.11 L369.692 1478.11 L369.692 1471.23 Q367.14 1475.36 363.333 1477.34 Q359.525 1479.29 354.015 1479.29 Q347.048 1479.29 342.916 1475.4 Q338.825 1471.47 338.825 1464.91 Q338.825 1457.25 343.929 1453.36 Q349.073 1449.47 359.241 1449.47 L369.692 1449.47 L369.692 1448.74 Q369.692 1443.6 366.29 1440.8 Q362.927 1437.97 356.811 1437.97 Q352.922 1437.97 349.235 1438.9 Q345.549 1439.83 342.146 1441.7 L342.146 1434.81 Q346.238 1433.23 350.086 1432.46 Q353.934 1431.65 357.58 1431.65 Q367.424 1431.65 372.285 1436.75 Q377.146 1441.86 377.146 1452.23 Z\" fill=\"#000000\" fill-rule=\"evenodd\" fill-opacity=\"1\" /><path clip-path=\"url(#clip880)\" d=\"M 0 0 M1673.06 405.357 L1680.51 405.357 L1689.83 440.762 L1699.11 405.357 L1707.9 405.357 L1717.21 440.762 L1726.49 405.357 L1733.94 405.357 L1722.07 450.727 L1713.28 450.727 L1703.52 413.54 L1693.72 450.727 L1684.93 450.727 L1673.06 405.357 Z\" fill=\"#000000\" fill-rule=\"evenodd\" fill-opacity=\"1\" /><path clip-path=\"url(#clip880)\" d=\"M 0 0 M1759.34 410.583 Q1753.35 410.583 1749.86 415.282 Q1746.38 419.94 1746.38 428.083 Q1746.38 436.225 1749.82 440.924 Q1753.31 445.582 1759.34 445.582 Q1765.3 445.582 1768.78 440.883 Q1772.27 436.184 1772.27 428.083 Q1772.27 420.021 1768.78 415.322 Q1765.3 410.583 1759.34 410.583 M1759.34 404.263 Q1769.07 404.263 1774.62 410.583 Q1780.16 416.902 1780.16 428.083 Q1780.16 439.223 1774.62 445.582 Q1769.07 451.902 1759.34 451.902 Q1749.58 451.902 1744.03 445.582 Q1738.52 439.223 1738.52 428.083 Q1738.52 416.902 1744.03 410.583 Q1749.58 404.263 1759.34 404.263 Z\" fill=\"#000000\" fill-rule=\"evenodd\" fill-opacity=\"1\" /><path clip-path=\"url(#clip880)\" d=\"M 0 0 M1805.56 410.583 Q1799.57 410.583 1796.08 415.282 Q1792.6 419.94 1792.6 428.083 Q1792.6 436.225 1796.04 440.924 Q1799.53 445.582 1805.56 445.582 Q1811.52 445.582 1815 440.883 Q1818.49 436.184 1818.49 428.083 Q1818.49 420.021 1815 415.322 Q1811.52 410.583 1805.56 410.583 M1805.56 404.263 Q1815.29 404.263 1820.84 410.583 Q1826.39 416.902 1826.39 428.083 Q1826.39 439.223 1820.84 445.582 Q1815.29 451.902 1805.56 451.902 Q1795.8 451.902 1790.25 445.582 Q1784.74 439.223 1784.74 428.083 Q1784.74 416.902 1790.25 410.583 Q1795.8 404.263 1805.56 404.263 Z\" fill=\"#000000\" fill-rule=\"evenodd\" fill-opacity=\"1\" /><path clip-path=\"url(#clip880)\" d=\"M 0 0 M1864.06 412.244 L1864.06 387.695 L1871.51 387.695 L1871.51 450.727 L1864.06 450.727 L1864.06 443.922 Q1861.71 447.973 1858.1 449.957 Q1854.54 451.902 1849.52 451.902 Q1841.29 451.902 1836.11 445.339 Q1830.96 438.777 1830.96 428.083 Q1830.96 417.388 1836.11 410.826 Q1841.29 404.263 1849.52 404.263 Q1854.54 404.263 1858.1 406.248 Q1861.71 408.193 1864.06 412.244 M1838.66 428.083 Q1838.66 436.306 1842.02 441.005 Q1845.42 445.663 1851.34 445.663 Q1857.25 445.663 1860.66 441.005 Q1864.06 436.306 1864.06 428.083 Q1864.06 419.859 1860.66 415.201 Q1857.25 410.502 1851.34 410.502 Q1845.42 410.502 1842.02 415.201 Q1838.66 419.859 1838.66 428.083 Z\" fill=\"#000000\" fill-rule=\"evenodd\" fill-opacity=\"1\" /><path clip-path=\"url(#clip880)\" d=\"M 0 0 M1917.04 423.343 L1917.04 450.727 L1909.59 450.727 L1909.59 423.586 Q1909.59 417.145 1907.08 413.945 Q1904.57 410.745 1899.55 410.745 Q1893.51 410.745 1890.03 414.593 Q1886.54 418.441 1886.54 425.085 L1886.54 450.727 L1879.05 450.727 L1879.05 387.695 L1886.54 387.695 L1886.54 412.406 Q1889.22 408.314 1892.82 406.289 Q1896.47 404.263 1901.21 404.263 Q1909.02 404.263 1913.03 409.124 Q1917.04 413.945 1917.04 423.343 Z\" fill=\"#000000\" fill-rule=\"evenodd\" fill-opacity=\"1\" /><path clip-path=\"url(#clip880)\" d=\"M 0 0 M1942.44 410.583 Q1936.45 410.583 1932.96 415.282 Q1929.48 419.94 1929.48 428.083 Q1929.48 436.225 1932.92 440.924 Q1936.41 445.582 1942.44 445.582 Q1948.4 445.582 1951.88 440.883 Q1955.37 436.184 1955.37 428.083 Q1955.37 420.021 1951.88 415.322 Q1948.4 410.583 1942.44 410.583 M1942.44 404.263 Q1952.17 404.263 1957.72 410.583 Q1963.27 416.902 1963.27 428.083 Q1963.27 439.223 1957.72 445.582 Q1952.17 451.902 1942.44 451.902 Q1932.68 451.902 1927.13 445.582 Q1921.62 439.223 1921.62 428.083 Q1921.62 416.902 1927.13 410.583 Q1932.68 404.263 1942.44 404.263 Z\" fill=\"#000000\" fill-rule=\"evenodd\" fill-opacity=\"1\" /><path clip-path=\"url(#clip880)\" d=\"M 0 0 M1970.31 432.822 L1970.31 405.357 L1977.77 405.357 L1977.77 432.539 Q1977.77 438.98 1980.28 442.22 Q1982.79 445.42 1987.81 445.42 Q1993.85 445.42 1997.33 441.572 Q2000.86 437.724 2000.86 431.08 L2000.86 405.357 L2008.31 405.357 L2008.31 450.727 L2000.86 450.727 L2000.86 443.76 Q1998.14 447.891 1994.54 449.917 Q1990.97 451.902 1986.23 451.902 Q1978.42 451.902 1974.37 447.041 Q1970.31 442.18 1970.31 432.822 M1989.07 404.263 L1989.07 404.263 Z\" fill=\"#000000\" fill-rule=\"evenodd\" fill-opacity=\"1\" /><path clip-path=\"url(#clip880)\" d=\"M 0 0 M2045.05 406.694 L2045.05 413.742 Q2041.89 412.122 2038.49 411.312 Q2035.09 410.502 2031.44 410.502 Q2025.89 410.502 2023.1 412.203 Q2020.34 413.904 2020.34 417.307 Q2020.34 419.9 2022.33 421.399 Q2024.31 422.857 2030.31 424.194 L2032.86 424.761 Q2040.8 426.462 2044.12 429.581 Q2047.48 432.66 2047.48 438.21 Q2047.48 444.529 2042.46 448.216 Q2037.48 451.902 2028.73 451.902 Q2025.08 451.902 2021.11 451.173 Q2017.18 450.484 2012.81 449.066 L2012.81 441.37 Q2016.94 443.517 2020.95 444.61 Q2024.96 445.663 2028.89 445.663 Q2034.16 445.663 2036.99 443.881 Q2039.83 442.058 2039.83 438.777 Q2039.83 435.739 2037.76 434.118 Q2035.74 432.498 2028.81 430.999 L2026.22 430.392 Q2019.29 428.933 2016.21 425.936 Q2013.13 422.897 2013.13 417.631 Q2013.13 411.231 2017.67 407.747 Q2022.21 404.263 2030.55 404.263 Q2034.68 404.263 2038.33 404.871 Q2041.97 405.479 2045.05 406.694 Z\" fill=\"#000000\" fill-rule=\"evenodd\" fill-opacity=\"1\" /><path clip-path=\"url(#clip880)\" d=\"M 0 0 M2094.11 426.179 L2094.11 429.824 L2059.84 429.824 Q2060.33 437.521 2064.46 441.572 Q2068.63 445.582 2076.04 445.582 Q2080.34 445.582 2084.35 444.529 Q2088.4 443.476 2092.37 441.37 L2092.37 448.418 Q2088.36 450.119 2084.14 451.011 Q2079.93 451.902 2075.6 451.902 Q2064.74 451.902 2058.38 445.582 Q2052.06 439.263 2052.06 428.488 Q2052.06 417.348 2058.06 410.826 Q2064.09 404.263 2074.3 404.263 Q2083.46 404.263 2088.76 410.178 Q2094.11 416.051 2094.11 426.179 M2086.66 423.991 Q2086.58 417.874 2083.21 414.228 Q2079.89 410.583 2074.38 410.583 Q2068.14 410.583 2064.38 414.107 Q2060.65 417.631 2060.08 424.032 L2086.66 423.991 Z\" fill=\"#000000\" fill-rule=\"evenodd\" fill-opacity=\"1\" /><path clip-path=\"url(#clip880)\" d=\"M 0 0 M782.069 1025.16 L782.069 1052.54 L774.615 1052.54 L774.615 1025.4 Q774.615 1018.96 772.104 1015.76 Q769.592 1012.56 764.569 1012.56 Q758.533 1012.56 755.049 1016.41 Q751.565 1020.26 751.565 1026.9 L751.565 1052.54 L744.071 1052.54 L744.071 989.51 L751.565 989.51 L751.565 1014.22 Q754.239 1010.13 757.844 1008.1 Q761.49 1006.08 766.23 1006.08 Q774.048 1006.08 778.058 1010.94 Q782.069 1015.76 782.069 1025.16 Z\" fill=\"#000000\" fill-rule=\"evenodd\" fill-opacity=\"1\" /><path clip-path=\"url(#clip880)\" d=\"M 0 0 M810.506 1029.74 Q801.473 1029.74 797.989 1031.8 Q794.505 1033.87 794.505 1038.85 Q794.505 1042.82 797.098 1045.17 Q799.731 1047.48 804.227 1047.48 Q810.425 1047.48 814.152 1043.1 Q817.919 1038.69 817.919 1031.4 L817.919 1029.74 L810.506 1029.74 M825.373 1026.66 L825.373 1052.54 L817.919 1052.54 L817.919 1045.66 Q815.367 1049.79 811.559 1051.77 Q807.752 1053.72 802.242 1053.72 Q795.275 1053.72 791.143 1049.83 Q787.051 1045.9 787.051 1039.34 Q787.051 1031.68 792.156 1027.79 Q797.3 1023.9 807.468 1023.9 L817.919 1023.9 L817.919 1023.17 Q817.919 1018.03 814.517 1015.23 Q811.154 1012.4 805.037 1012.4 Q801.149 1012.4 797.462 1013.33 Q793.776 1014.26 790.373 1016.12 L790.373 1009.24 Q794.465 1007.66 798.313 1006.89 Q802.161 1006.08 805.807 1006.08 Q815.651 1006.08 820.512 1011.18 Q825.373 1016.29 825.373 1026.66 Z\" fill=\"#000000\" fill-rule=\"evenodd\" fill-opacity=\"1\" /><path clip-path=\"url(#clip880)\" d=\"M 0 0 M870.905 1025.16 L870.905 1052.54 L863.451 1052.54 L863.451 1025.4 Q863.451 1018.96 860.94 1015.76 Q858.428 1012.56 853.405 1012.56 Q847.369 1012.56 843.886 1016.41 Q840.402 1020.26 840.402 1026.9 L840.402 1052.54 L832.908 1052.54 L832.908 1007.17 L840.402 1007.17 L840.402 1014.22 Q843.075 1010.13 846.681 1008.1 Q850.327 1006.08 855.066 1006.08 Q862.884 1006.08 866.895 1010.94 Q870.905 1015.76 870.905 1025.16 Z\" fill=\"#000000\" fill-rule=\"evenodd\" fill-opacity=\"1\" /><path clip-path=\"url(#clip880)\" d=\"M 0 0 M908.579 1014.06 L908.579 989.51 L916.032 989.51 L916.032 1052.54 L908.579 1052.54 L908.579 1045.74 Q906.229 1049.79 902.624 1051.77 Q899.059 1053.72 894.036 1053.72 Q885.812 1053.72 880.627 1047.15 Q875.483 1040.59 875.483 1029.9 Q875.483 1019.2 880.627 1012.64 Q885.812 1006.08 894.036 1006.08 Q899.059 1006.08 902.624 1008.06 Q906.229 1010.01 908.579 1014.06 M883.179 1029.9 Q883.179 1038.12 886.542 1042.82 Q889.944 1047.48 895.859 1047.48 Q901.773 1047.48 905.176 1042.82 Q908.579 1038.12 908.579 1029.9 Q908.579 1021.67 905.176 1017.02 Q901.773 1012.32 895.859 1012.32 Q889.944 1012.32 886.542 1017.02 Q883.179 1021.67 883.179 1029.9 Z\" fill=\"#000000\" fill-rule=\"evenodd\" fill-opacity=\"1\" /><path clip-path=\"url(#clip880)\" d=\"M 0 0 M952.774 1008.51 L952.774 1015.56 Q949.614 1013.94 946.211 1013.13 Q942.809 1012.32 939.163 1012.32 Q933.613 1012.32 930.818 1014.02 Q928.063 1015.72 928.063 1019.12 Q928.063 1021.71 930.048 1023.21 Q932.033 1024.67 938.029 1026.01 L940.581 1026.58 Q948.52 1028.28 951.842 1031.4 Q955.204 1034.47 955.204 1040.02 Q955.204 1046.34 950.181 1050.03 Q945.199 1053.72 936.449 1053.72 Q932.803 1053.72 928.833 1052.99 Q924.904 1052.3 920.529 1050.88 L920.529 1043.18 Q924.661 1045.33 928.671 1046.42 Q932.681 1047.48 936.611 1047.48 Q941.877 1047.48 944.713 1045.7 Q947.548 1043.87 947.548 1040.59 Q947.548 1037.55 945.482 1035.93 Q943.457 1034.31 936.53 1032.81 L933.937 1032.21 Q927.01 1030.75 923.931 1027.75 Q920.853 1024.71 920.853 1019.45 Q920.853 1013.05 925.39 1009.56 Q929.927 1006.08 938.272 1006.08 Q942.404 1006.08 946.049 1006.69 Q949.695 1007.29 952.774 1008.51 Z\" fill=\"#000000\" fill-rule=\"evenodd\" fill-opacity=\"1\" /><path clip-path=\"url(#clip880)\" d=\"M 0 0 M980.604 1012.4 Q974.608 1012.4 971.124 1017.1 Q967.641 1021.75 967.641 1029.9 Q967.641 1038.04 971.084 1042.74 Q974.568 1047.4 980.604 1047.4 Q986.558 1047.4 990.042 1042.7 Q993.526 1038 993.526 1029.9 Q993.526 1021.84 990.042 1017.14 Q986.558 1012.4 980.604 1012.4 M980.604 1006.08 Q990.326 1006.08 995.876 1012.4 Q1001.43 1018.72 1001.43 1029.9 Q1001.43 1041.04 995.876 1047.4 Q990.326 1053.72 980.604 1053.72 Q970.841 1053.72 965.291 1047.4 Q959.782 1041.04 959.782 1029.9 Q959.782 1018.72 965.291 1012.4 Q970.841 1006.08 980.604 1006.08 Z\" fill=\"#000000\" fill-rule=\"evenodd\" fill-opacity=\"1\" /><path clip-path=\"url(#clip880)\" d=\"M 0 0 M1044.57 1015.88 Q1047.36 1010.86 1051.25 1008.47 Q1055.14 1006.08 1060.41 1006.08 Q1067.5 1006.08 1071.34 1011.06 Q1075.19 1016 1075.19 1025.16 L1075.19 1052.54 L1067.7 1052.54 L1067.7 1025.4 Q1067.7 1018.88 1065.39 1015.72 Q1063.08 1012.56 1058.34 1012.56 Q1052.55 1012.56 1049.19 1016.41 Q1045.82 1020.26 1045.82 1026.9 L1045.82 1052.54 L1038.33 1052.54 L1038.33 1025.4 Q1038.33 1018.84 1036.02 1015.72 Q1033.71 1012.56 1028.89 1012.56 Q1023.18 1012.56 1019.82 1016.45 Q1016.45 1020.3 1016.45 1026.9 L1016.45 1052.54 L1008.96 1052.54 L1008.96 1007.17 L1016.45 1007.17 L1016.45 1014.22 Q1019.01 1010.05 1022.57 1008.06 Q1026.14 1006.08 1031.04 1006.08 Q1035.98 1006.08 1039.42 1008.59 Q1042.91 1011.1 1044.57 1015.88 Z\" fill=\"#000000\" fill-rule=\"evenodd\" fill-opacity=\"1\" /><path clip-path=\"url(#clip880)\" d=\"M 0 0 M1121.82 1027.99 L1121.82 1031.64 L1087.55 1031.64 Q1088.03 1039.34 1092.17 1043.39 Q1096.34 1047.4 1103.75 1047.4 Q1108.05 1047.4 1112.06 1046.34 Q1116.11 1045.29 1120.08 1043.18 L1120.08 1050.23 Q1116.07 1051.93 1111.85 1052.83 Q1107.64 1053.72 1103.31 1053.72 Q1092.45 1053.72 1086.09 1047.4 Q1079.77 1041.08 1079.77 1030.3 Q1079.77 1019.16 1085.77 1012.64 Q1091.8 1006.08 1102.01 1006.08 Q1111.16 1006.08 1116.47 1011.99 Q1121.82 1017.87 1121.82 1027.99 M1114.36 1025.81 Q1114.28 1019.69 1110.92 1016.04 Q1107.6 1012.4 1102.09 1012.4 Q1095.85 1012.4 1092.08 1015.92 Q1088.36 1019.45 1087.79 1025.85 L1114.36 1025.81 Z\" fill=\"#000000\" fill-rule=\"evenodd\" fill-opacity=\"1\" /><path clip-path=\"url(#clip880)\" d=\"M 0 0 M689.376 1114.56 L689.376 1121.53 Q686.216 1119.79 683.016 1118.94 Q679.856 1118.05 676.616 1118.05 Q669.364 1118.05 665.354 1122.66 Q661.344 1127.24 661.344 1135.55 Q661.344 1143.85 665.354 1148.47 Q669.364 1153.05 676.616 1153.05 Q679.856 1153.05 683.016 1152.2 Q686.216 1151.3 689.376 1149.56 L689.376 1156.45 Q686.257 1157.91 682.894 1158.64 Q679.573 1159.37 675.805 1159.37 Q665.557 1159.37 659.521 1152.92 Q653.485 1146.48 653.485 1135.55 Q653.485 1124.45 659.561 1118.09 Q665.678 1111.73 676.291 1111.73 Q679.735 1111.73 683.016 1112.46 Q686.297 1113.14 689.376 1114.56 Z\" fill=\"#000000\" fill-rule=\"evenodd\" fill-opacity=\"1\" /><path clip-path=\"url(#clip880)\" d=\"M 0 0 M697.194 1095.16 L704.648 1095.16 L704.648 1158.19 L697.194 1158.19 L697.194 1095.16 Z\" fill=\"#000000\" fill-rule=\"evenodd\" fill-opacity=\"1\" /><path clip-path=\"url(#clip880)\" d=\"M 0 0 M751.274 1133.64 L751.274 1137.29 L717.003 1137.29 Q717.489 1144.98 721.621 1149.04 Q725.794 1153.05 733.207 1153.05 Q737.501 1153.05 741.511 1151.99 Q745.562 1150.94 749.532 1148.83 L749.532 1155.88 Q745.521 1157.58 741.309 1158.47 Q737.096 1159.37 732.761 1159.37 Q721.905 1159.37 715.545 1153.05 Q709.225 1146.73 709.225 1135.95 Q709.225 1124.81 715.221 1118.29 Q721.257 1111.73 731.465 1111.73 Q740.62 1111.73 745.927 1117.64 Q751.274 1123.51 751.274 1133.64 M743.82 1131.45 Q743.739 1125.34 740.377 1121.69 Q737.055 1118.05 731.546 1118.05 Q725.307 1118.05 721.54 1121.57 Q717.813 1125.09 717.246 1131.5 L743.82 1131.45 Z\" fill=\"#000000\" fill-rule=\"evenodd\" fill-opacity=\"1\" /><path clip-path=\"url(#clip880)\" d=\"M 0 0 M753.745 1112.82 L761.644 1112.82 L775.822 1150.9 L790 1112.82 L797.9 1112.82 L780.886 1158.19 L770.759 1158.19 L753.745 1112.82 Z\" fill=\"#000000\" fill-rule=\"evenodd\" fill-opacity=\"1\" /><path clip-path=\"url(#clip880)\" d=\"M 0 0 M844.526 1133.64 L844.526 1137.29 L810.255 1137.29 Q810.741 1144.98 814.873 1149.04 Q819.045 1153.05 826.459 1153.05 Q830.752 1153.05 834.763 1151.99 Q838.814 1150.94 842.784 1148.83 L842.784 1155.88 Q838.773 1157.58 834.56 1158.47 Q830.347 1159.37 826.013 1159.37 Q815.156 1159.37 808.797 1153.05 Q802.477 1146.73 802.477 1135.95 Q802.477 1124.81 808.473 1118.29 Q814.508 1111.73 824.717 1111.73 Q833.872 1111.73 839.178 1117.64 Q844.526 1123.51 844.526 1133.64 M837.072 1131.45 Q836.991 1125.34 833.629 1121.69 Q830.307 1118.05 824.798 1118.05 Q818.559 1118.05 814.792 1121.57 Q811.065 1125.09 810.498 1131.5 L837.072 1131.45 Z\" fill=\"#000000\" fill-rule=\"evenodd\" fill-opacity=\"1\" /><path clip-path=\"url(#clip880)\" d=\"M 0 0 M878.634 1119.79 Q877.378 1119.06 875.88 1118.73 Q874.421 1118.37 872.639 1118.37 Q866.319 1118.37 862.917 1122.5 Q859.554 1126.59 859.554 1134.29 L859.554 1158.19 L852.06 1158.19 L852.06 1112.82 L859.554 1112.82 L859.554 1119.87 Q861.904 1115.74 865.671 1113.75 Q869.439 1111.73 874.826 1111.73 Q875.596 1111.73 876.528 1111.85 Q877.459 1111.93 878.594 1112.13 L878.634 1119.79 Z\" fill=\"#000000\" fill-rule=\"evenodd\" fill-opacity=\"1\" /><path clip-path=\"url(#clip880)\" d=\"M 0 0 M644.971 1186.06 Q635.938 1186.06 632.454 1188.13 Q628.97 1190.19 628.97 1195.18 Q628.97 1199.15 631.563 1201.5 Q634.196 1203.81 638.692 1203.81 Q644.89 1203.81 648.617 1199.43 Q652.384 1195.01 652.384 1187.72 L652.384 1186.06 L644.971 1186.06 M659.838 1182.98 L659.838 1208.87 L652.384 1208.87 L652.384 1201.98 Q649.832 1206.11 646.024 1208.1 Q642.217 1210.04 636.707 1210.04 Q629.74 1210.04 625.608 1206.15 Q621.516 1202.23 621.516 1195.66 Q621.516 1188.01 626.621 1184.12 Q631.765 1180.23 641.933 1180.23 L652.384 1180.23 L652.384 1179.5 Q652.384 1174.36 648.982 1171.56 Q645.619 1168.72 639.502 1168.72 Q635.614 1168.72 631.927 1169.66 Q628.241 1170.59 624.838 1172.45 L624.838 1165.56 Q628.93 1163.98 632.778 1163.22 Q636.626 1162.41 640.272 1162.41 Q650.116 1162.41 654.977 1167.51 Q659.838 1172.61 659.838 1182.98 Z\" fill=\"#000000\" fill-rule=\"evenodd\" fill-opacity=\"1\" /><path clip-path=\"url(#clip880)\" d=\"M 0 0 M705.37 1181.48 L705.37 1208.87 L697.916 1208.87 L697.916 1181.73 Q697.916 1175.29 695.405 1172.09 Q692.893 1168.89 687.87 1168.89 Q681.834 1168.89 678.351 1172.73 Q674.867 1176.58 674.867 1183.23 L674.867 1208.87 L667.373 1208.87 L667.373 1163.5 L674.867 1163.5 L674.867 1170.55 Q677.54 1166.46 681.146 1164.43 Q684.792 1162.41 689.531 1162.41 Q697.349 1162.41 701.36 1167.27 Q705.37 1172.09 705.37 1181.48 Z\" fill=\"#000000\" fill-rule=\"evenodd\" fill-opacity=\"1\" /><path clip-path=\"url(#clip880)\" d=\"M 0 0 M743.044 1170.39 L743.044 1145.84 L750.497 1145.84 L750.497 1208.87 L743.044 1208.87 L743.044 1202.06 Q740.694 1206.11 737.089 1208.1 Q733.524 1210.04 728.501 1210.04 Q720.277 1210.04 715.092 1203.48 Q709.948 1196.92 709.948 1186.22 Q709.948 1175.53 715.092 1168.97 Q720.277 1162.41 728.501 1162.41 Q733.524 1162.41 737.089 1164.39 Q740.694 1166.33 743.044 1170.39 M717.644 1186.22 Q717.644 1194.45 721.007 1199.15 Q724.409 1203.81 730.324 1203.81 Q736.238 1203.81 739.641 1199.15 Q743.044 1194.45 743.044 1186.22 Q743.044 1178 739.641 1173.34 Q736.238 1168.64 730.324 1168.64 Q724.409 1168.64 721.007 1173.34 Q717.644 1178 717.644 1186.22 Z\" fill=\"#000000\" fill-rule=\"evenodd\" fill-opacity=\"1\" /><path clip-path=\"url(#clip880)\" d=\"M 0 0 M1020.89 934.821 Q1019.63 934.091 1018.13 933.767 Q1016.68 933.403 1014.89 933.403 Q1008.57 933.403 1005.17 937.535 Q1001.81 941.626 1001.81 949.323 L1001.81 973.223 L994.315 973.223 L994.315 927.853 L1001.81 927.853 L1001.81 934.902 Q1004.16 930.77 1007.93 928.785 Q1011.69 926.759 1017.08 926.759 Q1017.85 926.759 1018.78 926.881 Q1019.71 926.962 1020.85 927.164 L1020.89 934.821 Z\" fill=\"#000000\" fill-rule=\"evenodd\" fill-opacity=\"1\" /><path clip-path=\"url(#clip880)\" d=\"M 0 0 M1028.71 927.853 L1036.16 927.853 L1036.16 973.223 L1028.71 973.223 L1028.71 927.853 M1028.71 910.191 L1036.16 910.191 L1036.16 919.63 L1028.71 919.63 L1028.71 910.191 Z\" fill=\"#000000\" fill-rule=\"evenodd\" fill-opacity=\"1\" /><path clip-path=\"url(#clip880)\" d=\"M 0 0 M1076.63 929.595 L1076.63 936.563 Q1073.47 934.821 1070.27 933.97 Q1067.11 933.079 1063.87 933.079 Q1056.62 933.079 1052.61 937.697 Q1048.6 942.274 1048.6 950.579 Q1048.6 958.883 1052.61 963.501 Q1056.62 968.079 1063.87 968.079 Q1067.11 968.079 1070.27 967.228 Q1073.47 966.337 1076.63 964.595 L1076.63 971.481 Q1073.51 972.94 1070.15 973.669 Q1066.83 974.398 1063.06 974.398 Q1052.81 974.398 1046.77 967.957 Q1040.74 961.516 1040.74 950.579 Q1040.74 939.479 1046.81 933.119 Q1052.93 926.759 1063.54 926.759 Q1066.99 926.759 1070.27 927.488 Q1073.55 928.177 1076.63 929.595 Z\" fill=\"#000000\" fill-rule=\"evenodd\" fill-opacity=\"1\" /><path clip-path=\"url(#clip880)\" d=\"M 0 0 M1122.16 945.839 L1122.16 973.223 L1114.71 973.223 L1114.71 946.082 Q1114.71 939.641 1112.2 936.441 Q1109.68 933.241 1104.66 933.241 Q1098.63 933.241 1095.14 937.089 Q1091.66 940.937 1091.66 947.581 L1091.66 973.223 L1084.16 973.223 L1084.16 910.191 L1091.66 910.191 L1091.66 934.902 Q1094.33 930.81 1097.94 928.785 Q1101.58 926.759 1106.32 926.759 Q1114.14 926.759 1118.15 931.62 Q1122.16 936.441 1122.16 945.839 Z\" fill=\"#000000\" fill-rule=\"evenodd\" fill-opacity=\"1\" /><path clip-path=\"url(#clip880)\" d=\"M 0 0 M739.428 1081.49 L746.882 1081.49 L756.199 1116.9 L765.475 1081.49 L774.266 1081.49 L783.583 1116.9 L792.859 1081.49 L800.313 1081.49 L788.444 1126.86 L779.653 1126.86 L769.891 1089.68 L760.088 1126.86 L751.297 1126.86 L739.428 1081.49 Z\" fill=\"#000000\" fill-rule=\"evenodd\" fill-opacity=\"1\" /><path clip-path=\"url(#clip880)\" d=\"M 0 0 M808.131 1081.49 L815.585 1081.49 L815.585 1126.86 L808.131 1126.86 L808.131 1081.49 M808.131 1063.83 L815.585 1063.83 L815.585 1073.27 L808.131 1073.27 L808.131 1063.83 Z\" fill=\"#000000\" fill-rule=\"evenodd\" fill-opacity=\"1\" /><path clip-path=\"url(#clip880)\" d=\"M 0 0 M830.776 1068.61 L830.776 1081.49 L846.129 1081.49 L846.129 1087.29 L830.776 1087.29 L830.776 1111.92 Q830.776 1117.47 832.275 1119.05 Q833.814 1120.63 838.473 1120.63 L846.129 1120.63 L846.129 1126.86 L838.473 1126.86 Q829.844 1126.86 826.563 1123.66 Q823.282 1120.42 823.282 1111.92 L823.282 1087.29 L817.813 1087.29 L817.813 1081.49 L823.282 1081.49 L823.282 1068.61 L830.776 1068.61 Z\" fill=\"#000000\" fill-rule=\"evenodd\" fill-opacity=\"1\" /><path clip-path=\"url(#clip880)\" d=\"M 0 0 M891.661 1099.48 L891.661 1126.86 L884.207 1126.86 L884.207 1099.72 Q884.207 1093.28 881.696 1090.08 Q879.184 1086.88 874.161 1086.88 Q868.125 1086.88 864.641 1090.73 Q861.158 1094.58 861.158 1101.22 L861.158 1126.86 L853.663 1126.86 L853.663 1063.83 L861.158 1063.83 L861.158 1088.54 Q863.831 1084.45 867.437 1082.43 Q871.082 1080.4 875.822 1080.4 Q883.64 1080.4 887.651 1085.26 Q891.661 1090.08 891.661 1099.48 Z\" fill=\"#000000\" fill-rule=\"evenodd\" fill-opacity=\"1\" /><path clip-path=\"url(#clip880)\" d=\"M 0 0 M855.447 1081.51 Q846.414 1081.51 842.93 1083.58 Q839.446 1085.65 839.446 1090.63 Q839.446 1094.6 842.039 1096.95 Q844.672 1099.26 849.169 1099.26 Q855.366 1099.26 859.093 1094.88 Q862.861 1090.47 862.861 1083.18 L862.861 1081.51 L855.447 1081.51 M870.314 1078.44 L870.314 1104.32 L862.861 1104.32 L862.861 1097.43 Q860.309 1101.57 856.501 1103.55 Q852.693 1105.5 847.184 1105.5 Q840.216 1105.5 836.084 1101.61 Q831.993 1097.68 831.993 1091.11 Q831.993 1083.46 837.097 1079.57 Q842.241 1075.68 852.409 1075.68 L862.861 1075.68 L862.861 1074.95 Q862.861 1069.81 859.458 1067.01 Q856.096 1064.18 849.979 1064.18 Q846.09 1064.18 842.404 1065.11 Q838.717 1066.04 835.314 1067.9 L835.314 1061.02 Q839.406 1059.44 843.254 1058.67 Q847.103 1057.86 850.748 1057.86 Q860.592 1057.86 865.453 1062.96 Q870.314 1068.07 870.314 1078.44 Z\" fill=\"#000000\" fill-rule=\"evenodd\" fill-opacity=\"1\" /><path clip-path=\"url(#clip880)\" d=\"M 0 0 M222.285 1338.81 L222.285 1345.78 Q219.125 1344.04 215.925 1343.19 Q212.765 1342.3 209.524 1342.3 Q202.273 1342.3 198.263 1346.92 Q194.252 1351.49 194.252 1359.8 Q194.252 1368.1 198.263 1372.72 Q202.273 1377.3 209.524 1377.3 Q212.765 1377.3 215.925 1376.45 Q219.125 1375.56 222.285 1373.81 L222.285 1380.7 Q219.165 1382.16 215.803 1382.89 Q212.481 1383.62 208.714 1383.62 Q198.465 1383.62 192.429 1377.18 Q186.394 1370.74 186.394 1359.8 Q186.394 1348.7 192.47 1342.34 Q198.587 1335.98 209.2 1335.98 Q212.643 1335.98 215.925 1336.71 Q219.206 1337.4 222.285 1338.81 Z\" fill=\"#000000\" fill-rule=\"evenodd\" fill-opacity=\"1\" /><path clip-path=\"url(#clip880)\" d=\"M 0 0 M247.684 1342.3 Q241.688 1342.3 238.205 1347 Q234.721 1351.66 234.721 1359.8 Q234.721 1367.94 238.164 1372.64 Q241.648 1377.3 247.684 1377.3 Q253.639 1377.3 257.122 1372.6 Q260.606 1367.9 260.606 1359.8 Q260.606 1351.74 257.122 1347.04 Q253.639 1342.3 247.684 1342.3 M247.684 1335.98 Q257.406 1335.98 262.956 1342.3 Q268.505 1348.62 268.505 1359.8 Q268.505 1370.94 262.956 1377.3 Q257.406 1383.62 247.684 1383.62 Q237.921 1383.62 232.371 1377.3 Q226.862 1370.94 226.862 1359.8 Q226.862 1348.62 232.371 1342.3 Q237.921 1335.98 247.684 1335.98 Z\" fill=\"#000000\" fill-rule=\"evenodd\" fill-opacity=\"1\" /><path clip-path=\"url(#clip880)\" d=\"M 0 0 M311.647 1345.78 Q314.443 1340.76 318.331 1338.37 Q322.22 1335.98 327.487 1335.98 Q334.576 1335.98 338.424 1340.96 Q342.272 1345.9 342.272 1355.06 L342.272 1382.44 L334.778 1382.44 L334.778 1355.3 Q334.778 1348.78 332.469 1345.62 Q330.16 1342.46 325.421 1342.46 Q319.628 1342.46 316.266 1346.31 Q312.903 1350.16 312.903 1356.8 L312.903 1382.44 L305.409 1382.44 L305.409 1355.3 Q305.409 1348.74 303.1 1345.62 Q300.791 1342.46 295.97 1342.46 Q290.259 1342.46 286.896 1346.35 Q283.534 1350.2 283.534 1356.8 L283.534 1382.44 L276.04 1382.44 L276.04 1337.07 L283.534 1337.07 L283.534 1344.12 Q286.086 1339.95 289.651 1337.96 Q293.216 1335.98 298.117 1335.98 Q303.06 1335.98 306.503 1338.49 Q309.987 1341 311.647 1345.78 Z\" fill=\"#000000\" fill-rule=\"evenodd\" fill-opacity=\"1\" /><path clip-path=\"url(#clip880)\" d=\"M 0 0 M373.059 1319.41 L373.059 1325.61 L365.93 1325.61 Q361.919 1325.61 360.339 1327.23 Q358.8 1328.85 358.8 1333.06 L358.8 1337.07 L371.074 1337.07 L371.074 1342.87 L358.8 1342.87 L358.8 1382.44 L351.306 1382.44 L351.306 1342.87 L344.176 1342.87 L344.176 1337.07 L351.306 1337.07 L351.306 1333.91 Q351.306 1326.34 354.83 1322.89 Q358.354 1319.41 366.011 1319.41 L373.059 1319.41 Z\" fill=\"#000000\" fill-rule=\"evenodd\" fill-opacity=\"1\" /><path clip-path=\"url(#clip880)\" d=\"M 0 0 M398.458 1342.3 Q392.463 1342.3 388.979 1347 Q385.495 1351.66 385.495 1359.8 Q385.495 1367.94 388.939 1372.64 Q392.423 1377.3 398.458 1377.3 Q404.413 1377.3 407.897 1372.6 Q411.381 1367.9 411.381 1359.8 Q411.381 1351.74 407.897 1347.04 Q404.413 1342.3 398.458 1342.3 M398.458 1335.98 Q408.181 1335.98 413.73 1342.3 Q419.28 1348.62 419.28 1359.8 Q419.28 1370.94 413.73 1377.3 Q408.181 1383.62 398.458 1383.62 Q388.696 1383.62 383.146 1377.3 Q377.637 1370.94 377.637 1359.8 Q377.637 1348.62 383.146 1342.3 Q388.696 1335.98 398.458 1335.98 Z\" fill=\"#000000\" fill-rule=\"evenodd\" fill-opacity=\"1\" /><path clip-path=\"url(#clip880)\" d=\"M 0 0 M453.389 1344.04 Q452.133 1343.31 450.634 1342.99 Q449.176 1342.62 447.393 1342.62 Q441.074 1342.62 437.671 1346.75 Q434.309 1350.85 434.309 1358.54 L434.309 1382.44 L426.815 1382.44 L426.815 1337.07 L434.309 1337.07 L434.309 1344.12 Q436.658 1339.99 440.426 1338 Q444.193 1335.98 449.581 1335.98 Q450.35 1335.98 451.282 1336.1 Q452.214 1336.18 453.348 1336.38 L453.389 1344.04 Z\" fill=\"#000000\" fill-rule=\"evenodd\" fill-opacity=\"1\" /><path clip-path=\"url(#clip880)\" d=\"M 0 0 M468.58 1324.19 L468.58 1337.07 L483.932 1337.07 L483.932 1342.87 L468.58 1342.87 L468.58 1367.49 Q468.58 1373.04 470.078 1374.62 Q471.618 1376.2 476.276 1376.2 L483.932 1376.2 L483.932 1382.44 L476.276 1382.44 Q467.648 1382.44 464.367 1379.24 Q461.085 1376 461.085 1367.49 L461.085 1342.87 L455.617 1342.87 L455.617 1337.07 L461.085 1337.07 L461.085 1324.19 L468.58 1324.19 Z\" fill=\"#000000\" fill-rule=\"evenodd\" fill-opacity=\"1\" /><path clip-path=\"url(#clip880)\" d=\"M 0 0 M512.37 1359.64 Q503.336 1359.64 499.852 1361.7 Q496.369 1363.77 496.369 1368.75 Q496.369 1372.72 498.961 1375.07 Q501.594 1377.38 506.091 1377.38 Q512.289 1377.38 516.016 1373 Q519.783 1368.59 519.783 1361.3 L519.783 1359.64 L512.37 1359.64 M527.237 1356.56 L527.237 1382.44 L519.783 1382.44 L519.783 1375.56 Q517.231 1379.69 513.423 1381.67 Q509.615 1383.62 504.106 1383.62 Q497.138 1383.62 493.006 1379.73 Q488.915 1375.8 488.915 1369.24 Q488.915 1361.58 494.019 1357.69 Q499.164 1353.8 509.332 1353.8 L519.783 1353.8 L519.783 1353.07 Q519.783 1347.93 516.38 1345.13 Q513.018 1342.3 506.901 1342.3 Q503.012 1342.3 499.326 1343.23 Q495.64 1344.16 492.237 1346.02 L492.237 1339.14 Q496.328 1337.56 500.177 1336.79 Q504.025 1335.98 507.671 1335.98 Q517.514 1335.98 522.376 1341.08 Q527.237 1346.19 527.237 1356.56 Z\" fill=\"#000000\" fill-rule=\"evenodd\" fill-opacity=\"1\" /><path clip-path=\"url(#clip880)\" d=\"M 0 0 M567.624 1359.8 Q567.624 1351.57 564.221 1346.92 Q560.859 1342.22 554.945 1342.22 Q549.03 1342.22 545.628 1346.92 Q542.265 1351.57 542.265 1359.8 Q542.265 1368.02 545.628 1372.72 Q549.03 1377.38 554.945 1377.38 Q560.859 1377.38 564.221 1372.72 Q567.624 1368.02 567.624 1359.8 M542.265 1343.96 Q544.615 1339.91 548.18 1337.96 Q551.785 1335.98 556.768 1335.98 Q565.032 1335.98 570.176 1342.54 Q575.361 1349.1 575.361 1359.8 Q575.361 1370.49 570.176 1377.05 Q565.032 1383.62 556.768 1383.62 Q551.785 1383.62 548.18 1381.67 Q544.615 1379.69 542.265 1375.64 L542.265 1382.44 L534.771 1382.44 L534.771 1319.41 L542.265 1319.41 L542.265 1343.96 Z\" fill=\"#000000\" fill-rule=\"evenodd\" fill-opacity=\"1\" /><path clip-path=\"url(#clip880)\" d=\"M 0 0 M583.18 1319.41 L590.633 1319.41 L590.633 1382.44 L583.18 1382.44 L583.18 1319.41 Z\" fill=\"#000000\" fill-rule=\"evenodd\" fill-opacity=\"1\" /><path clip-path=\"url(#clip880)\" d=\"M 0 0 M637.259 1357.89 L637.259 1361.54 L602.989 1361.54 Q603.475 1369.24 607.607 1373.29 Q611.779 1377.3 619.192 1377.3 Q623.486 1377.3 627.496 1376.24 Q631.547 1375.19 635.517 1373.08 L635.517 1380.13 Q631.507 1381.83 627.294 1382.73 Q623.081 1383.62 618.747 1383.62 Q607.89 1383.62 601.53 1377.3 Q595.211 1370.98 595.211 1360.2 Q595.211 1349.06 601.206 1342.54 Q607.242 1335.98 617.45 1335.98 Q626.605 1335.98 631.912 1341.89 Q637.259 1347.77 637.259 1357.89 M629.805 1355.71 Q629.724 1349.59 626.362 1345.94 Q623.04 1342.3 617.531 1342.3 Q611.293 1342.3 607.526 1345.82 Q603.799 1349.35 603.232 1355.75 L629.805 1355.71 Z\" fill=\"#000000\" fill-rule=\"evenodd\" fill-opacity=\"1\" /><path clip-path=\"url(#clip880)\" d=\"M 0 0 M2227.51 164.903 L2227.51 192.287 L2220.06 192.287 L2220.06 165.146 Q2220.06 158.705 2217.55 155.505 Q2215.04 152.304 2210.01 152.304 Q2203.98 152.304 2200.49 156.153 Q2197.01 160.001 2197.01 166.645 L2197.01 192.287 L2189.52 192.287 L2189.52 129.255 L2197.01 129.255 L2197.01 153.965 Q2199.68 149.874 2203.29 147.848 Q2206.94 145.823 2211.68 145.823 Q2219.49 145.823 2223.5 150.684 Q2227.51 155.505 2227.51 164.903 Z\" fill=\"#000000\" fill-rule=\"evenodd\" fill-opacity=\"1\" /><path clip-path=\"url(#clip880)\" d=\"M 0 0 M2252.91 152.142 Q2246.92 152.142 2243.43 156.841 Q2239.95 161.5 2239.95 169.642 Q2239.95 177.785 2243.39 182.484 Q2246.88 187.142 2252.91 187.142 Q2258.87 187.142 2262.35 182.443 Q2265.84 177.744 2265.84 169.642 Q2265.84 161.581 2262.35 156.882 Q2258.87 152.142 2252.91 152.142 M2252.91 145.823 Q2262.64 145.823 2268.19 152.142 Q2273.74 158.462 2273.74 169.642 Q2273.74 180.782 2268.19 187.142 Q2262.64 193.462 2252.91 193.462 Q2243.15 193.462 2237.6 187.142 Q2232.09 180.782 2232.09 169.642 Q2232.09 158.462 2237.6 152.142 Q2243.15 145.823 2252.91 145.823 Z\" fill=\"#000000\" fill-rule=\"evenodd\" fill-opacity=\"1\" /><path clip-path=\"url(#clip880)\" d=\"M 0 0 M2316.88 155.626 Q2319.67 150.603 2323.56 148.213 Q2327.45 145.823 2332.72 145.823 Q2339.81 145.823 2343.65 150.806 Q2347.5 155.748 2347.5 164.903 L2347.5 192.287 L2340.01 192.287 L2340.01 165.146 Q2340.01 158.624 2337.7 155.464 Q2335.39 152.304 2330.65 152.304 Q2324.86 152.304 2321.5 156.153 Q2318.13 160.001 2318.13 166.645 L2318.13 192.287 L2310.64 192.287 L2310.64 165.146 Q2310.64 158.583 2308.33 155.464 Q2306.02 152.304 2301.2 152.304 Q2295.49 152.304 2292.13 156.193 Q2288.76 160.042 2288.76 166.645 L2288.76 192.287 L2281.27 192.287 L2281.27 146.917 L2288.76 146.917 L2288.76 153.965 Q2291.32 149.793 2294.88 147.808 Q2298.45 145.823 2303.35 145.823 Q2308.29 145.823 2311.73 148.335 Q2315.22 150.846 2316.88 155.626 Z\" fill=\"#000000\" fill-rule=\"evenodd\" fill-opacity=\"1\" /><path clip-path=\"url(#clip880)\" d=\"M 0 0 M2394.13 167.738 L2394.13 171.384 L2359.86 171.384 Q2360.34 179.081 2364.48 183.132 Q2368.65 187.142 2376.06 187.142 Q2380.35 187.142 2384.37 186.089 Q2388.42 185.036 2392.39 182.929 L2392.39 189.978 Q2388.38 191.679 2384.16 192.57 Q2379.95 193.462 2375.62 193.462 Q2364.76 193.462 2358.4 187.142 Q2352.08 180.823 2352.08 170.047 Q2352.08 158.907 2358.07 152.386 Q2364.11 145.823 2374.32 145.823 Q2383.47 145.823 2388.78 151.737 Q2394.13 157.611 2394.13 167.738 M2386.67 165.551 Q2386.59 159.434 2383.23 155.788 Q2379.91 152.142 2374.4 152.142 Q2368.16 152.142 2364.39 155.667 Q2360.67 159.191 2360.1 165.591 L2386.67 165.551 Z\" fill=\"#000000\" fill-rule=\"evenodd\" fill-opacity=\"1\" /><path clip-path=\"url(#clip880)\" d=\"\n",
       "M1989.74 327.952 L2280.76 327.952 L2280.76 206.992 L1989.74 206.992  Z\n",
       "  \" fill=\"#ffffff\" fill-rule=\"evenodd\" fill-opacity=\"1\"/>\n",
       "<polyline clip-path=\"url(#clip880)\" style=\"stroke:#000000; stroke-width:4; stroke-opacity:1; fill:none\" points=\"\n",
       "  1989.74,327.952 2280.76,327.952 2280.76,206.992 1989.74,206.992 1989.74,327.952 \n",
       "  \"/>\n",
       "<circle clip-path=\"url(#clip880)\" cx=\"2097.74\" cy=\"267.472\" r=\"23\" fill=\"#009af9\" fill-rule=\"evenodd\" fill-opacity=\"1\" stroke=\"#000000\" stroke-opacity=\"1\" stroke-width=\"5.12\"/>\n",
       "<path clip-path=\"url(#clip880)\" d=\"M 0 0 M2195.58 287.16 Q2193.77 291.789 2192.06 293.201 Q2190.35 294.613 2187.48 294.613 L2184.08 294.613 L2184.08 291.048 L2186.58 291.048 Q2188.33 291.048 2189.31 290.215 Q2190.28 289.382 2191.46 286.28 L2192.22 284.335 L2181.74 258.826 L2186.25 258.826 L2194.35 279.104 L2202.46 258.826 L2206.97 258.826 L2195.58 287.16 Z\" fill=\"#000000\" fill-rule=\"evenodd\" fill-opacity=\"1\" /><path clip-path=\"url(#clip880)\" d=\"M 0 0 M2212.85 280.817 L2220.49 280.817 L2220.49 254.451 L2212.18 256.118 L2212.18 251.859 L2220.44 250.192 L2225.12 250.192 L2225.12 280.817 L2232.76 280.817 L2232.76 284.752 L2212.85 284.752 L2212.85 280.817 Z\" fill=\"#000000\" fill-rule=\"evenodd\" fill-opacity=\"1\" /></svg>\n"
      ]
     },
     "metadata": {},
     "output_type": "display_data"
    },
    {
     "name": "stdout",
     "output_type": "stream",
     "text": [
      "Epoch: 1 11.420301376942485\n",
      "Epoch: 2 11.218653049704113\n",
      "Epoch: 3 11.13634369864061\n",
      "Epoch: 4 11.098389116116321\n",
      "Epoch: 5 11.079124200457887\n",
      "Epoch: 6 11.068572077681285\n",
      "Epoch: 7 11.062453360115061\n",
      "Epoch: 8 11.058760104822262\n",
      "Epoch: 9 11.056469725459596\n",
      "Epoch: 10 11.05502385429174\n"
     ]
    }
   ],
   "source": [
    "len = 10\n",
    "epochs = 10\n",
    "word2vec = readdata(emmaNovel, len)\n",
    "for i = 1:epochs\n",
    "    println(\"Epoch: \", i, \" \", gradient_descent(word2vec, len))\n",
    "end\n",
    "scatter_plot(word2vec, len)"
   ]
  },
  {
   "cell_type": "code",
   "execution_count": null,
   "metadata": {},
   "outputs": [],
   "source": []
  },
  {
   "cell_type": "code",
   "execution_count": null,
   "metadata": {},
   "outputs": [],
   "source": []
  }
 ],
 "metadata": {
  "kernelspec": {
   "display_name": "Julia 1.4.1",
   "language": "julia",
   "name": "julia-1.4"
  },
  "language_info": {
   "file_extension": ".jl",
   "mimetype": "application/julia",
   "name": "julia",
   "version": "1.4.1"
  }
 },
 "nbformat": 4,
 "nbformat_minor": 4
}
